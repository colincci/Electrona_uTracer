{
 "cells": [
  {
   "cell_type": "code",
   "execution_count": 1,
   "metadata": {
    "collapsed": false
   },
   "outputs": [],
   "source": [
    "import os   # needed for directory and file interaction\n",
    "import pandas as pd\n",
    "from __future__ import print_function\n",
    "import matplotlib.pyplot as plt\n",
    "import sys\n",
    "import time\n",
    "%matplotlib inline"
   ]
  },
  {
   "cell_type": "code",
   "execution_count": 2,
   "metadata": {
    "collapsed": true
   },
   "outputs": [],
   "source": [
    "def import_tube_data_file(file_to_open):\n",
    "    if os.path.isfile(file_to_open):\n",
    "        with open(file_to_open, 'r') as file:\n",
    "            tube_type='5749'\n",
    "            file_contents_string = str(file.read())\n",
    "            file_contents_list = file_contents_string.split()\n",
    "            x_values = ['x' + i for i in file_contents_list[8::2]]\n",
    "            y_values = [i for i in file_contents_list[9::2]]\n",
    "            data_dict = dict(zip(x_values, y_values))\n",
    "            data_dict['anode_voltage'] = file_contents_list[6]\n",
    "            data_dict['tube_ID'] = os.path.basename(file_to_open)[:-4]\n",
    "            data_dict['tube_type'] = tube_type\n",
    "        return pd.Series(data_dict, name = file_to_open)\n",
    "    else:\n",
    "        print('%s is not a file' % file_to_open)"
   ]
  },
  {
   "cell_type": "code",
   "execution_count": 4,
   "metadata": {
    "collapsed": false
   },
   "outputs": [
    {
     "name": "stdout",
     "output_type": "stream",
     "text": [
      "['./SampleTubeData/1.utd', './SampleTubeData/10.utd', './SampleTubeData/11.utd', './SampleTubeData/12.utd', './SampleTubeData/13.utd', './SampleTubeData/14.utd', './SampleTubeData/15.utd', './SampleTubeData/16.utd', './SampleTubeData/17.utd', './SampleTubeData/18.utd', './SampleTubeData/19.utd', './SampleTubeData/2.utd', './SampleTubeData/20.utd', './SampleTubeData/21.utd', './SampleTubeData/22.utd', './SampleTubeData/23.utd', './SampleTubeData/24.utd', './SampleTubeData/25.utd', './SampleTubeData/26.utd', './SampleTubeData/27.utd', './SampleTubeData/28.utd', './SampleTubeData/29.utd', './SampleTubeData/3.utd', './SampleTubeData/30.utd', './SampleTubeData/31.utd', './SampleTubeData/32.utd', './SampleTubeData/33.utd', './SampleTubeData/34.utd', './SampleTubeData/35.utd', './SampleTubeData/36.utd', './SampleTubeData/37.utd', './SampleTubeData/38.utd', './SampleTubeData/39.utd', './SampleTubeData/4.utd', './SampleTubeData/40.utd', './SampleTubeData/42.utd', './SampleTubeData/43.utd', './SampleTubeData/44.utd', './SampleTubeData/45.utd', './SampleTubeData/46.utd', './SampleTubeData/47.utd', './SampleTubeData/48.utd', './SampleTubeData/49.utd', './SampleTubeData/5.utd', './SampleTubeData/50.utd', './SampleTubeData/6.utd', './SampleTubeData/7.utd', './SampleTubeData/8.utd', './SampleTubeData/9.utd']\n"
     ]
    }
   ],
   "source": [
    "chosen_folder = './SampleTubeData/'\n",
    "\n",
    "list_of_tube_data_files_in_dir = []\n",
    "for file_name in os.listdir(chosen_folder):\n",
    "    if file_name.endswith(\".utd\"):\n",
    "        list_of_tube_data_files_in_dir.append(chosen_folder + file_name)\n",
    "\n",
    "print(list_of_tube_data_files_in_dir)\n",
    "batch_list = list_of_tube_data_files_in_dir\n",
    "tube_type = '5749'"
   ]
  },
  {
   "cell_type": "code",
   "execution_count": 5,
   "metadata": {
    "collapsed": false
   },
   "outputs": [
    {
     "name": "stdout",
     "output_type": "stream",
     "text": [
      "49 tubes were processed and added to the Master Tube Dictionary.\n"
     ]
    }
   ],
   "source": [
    "#  master_tube_dict is a dictionary for storing all the Tube objects\n",
    "master_tube_dict = {}\n",
    "\n",
    "# Prompt the user to choose a folder, then make a list of all the files in the chosen directory to be processed\n",
    "# batch_list = choose_folder()\n",
    "\n",
    "# tube_type = ask_tube_type('', confirm=0)\n",
    "df = pd.DataFrame()\n",
    "# Read and process every file in the batch_list, then add each resulting Tube object to the master_tube_dict\n",
    "for tube in batch_list:\n",
    "    tube_series = import_tube_data_file(tube)\n",
    "    df = df.append(tube_series, ignore_index=True)\n",
    "\n",
    "# Print the number of tube objects that were created\n",
    "print(len(df), \"tubes were processed and added to the Master Tube Dictionary.\")"
   ]
  },
  {
   "cell_type": "code",
   "execution_count": 6,
   "metadata": {
    "collapsed": false
   },
   "outputs": [],
   "source": [
    "df = df[['tube_ID',\n",
    "    'anode_voltage', \n",
    "    'tube_type',\n",
    "    'x-50',\n",
    "    'x-46',\n",
    "    'x-42',\n",
    "    'x-38',\n",
    "    'x-34',\n",
    "    'x-30',\n",
    "    'x-26',\n",
    "    'x-22',\n",
    "    'x-18',\n",
    "    'x-14',\n",
    "    'x-10',\n",
    "    'x-6',\n",
    "    'x-2']].copy()"
   ]
  },
  {
   "cell_type": "code",
   "execution_count": 7,
   "metadata": {
    "collapsed": true
   },
   "outputs": [],
   "source": [
    "columns = list(df.columns.values[3:])"
   ]
  },
  {
   "cell_type": "code",
   "execution_count": 8,
   "metadata": {
    "collapsed": true
   },
   "outputs": [],
   "source": [
    "def plot_matched(tubes_df, match_list):\n",
    "    for i in match_list:\n",
    "        temp = tubes_df[tubes_df.tube_ID == str(i)].copy()\n",
    "        plt.plot(temp[3:16])\n",
    "    plt.show()"
   ]
  },
  {
   "cell_type": "code",
   "execution_count": 9,
   "metadata": {
    "collapsed": true
   },
   "outputs": [],
   "source": [
    "def plot_all(tubes_df):\n",
    "    for row in tubes_df.itertuples():\n",
    "        plt.plot(row[4:])\n",
    "    plt.show()"
   ]
  },
  {
   "cell_type": "code",
   "execution_count": 10,
   "metadata": {
    "collapsed": false
   },
   "outputs": [
    {
     "data": {
      "image/png": "[encoded data removed]",
      "text/plain": [
       "<matplotlib.figure.Figure at 0x117a20610>"
      ]
     },
     "metadata": {},
     "output_type": "display_data"
    }
   ],
   "source": [
    "plot_all(df)"
   ]
  },
  {
   "cell_type": "code",
   "execution_count": 16,
   "metadata": {
    "collapsed": false
   },
   "outputs": [
    {
     "name": "stdout",
     "output_type": "stream",
     "text": [
      "Please enter the Tube ID of the tube to be matched:2\n",
      "How many matched tubes would you like?3\n"
     ]
    }
   ],
   "source": [
    "# Ask the user to enter the tube ID for the tube they want matched.\n",
    "user_choice = input(\"Please enter the Tube ID of the tube to be matched:\")\n",
    "n_matches = input(\"How many matched tubes would you like?\")\n"
   ]
  },
  {
   "cell_type": "code",
   "execution_count": 19,
   "metadata": {
    "collapsed": false
   },
   "outputs": [
    {
     "data": {
      "text/plain": [
       "Index([u'tube_ID', u'anode_voltage', u'tube_type', u'x-50', u'x-46', u'x-42',\n",
       "       u'x-38', u'x-34', u'x-30', u'x-26', u'x-22', u'x-18', u'x-14', u'x-10',\n",
       "       u'x-6', u'x-2', u'x-50_diff^2', u'x-46_diff^2', u'x-42_diff^2',\n",
       "       u'x-38_diff^2', u'x-34_diff^2', u'x-30_diff^2', u'x-26_diff^2',\n",
       "       u'x-22_diff^2', u'x-18_diff^2', u'x-14_diff^2', u'x-10_diff^2',\n",
       "       u'x-6_diff^2', u'x-2_diff^2'],\n",
       "      dtype='object')"
      ]
     },
     "execution_count": 19,
     "metadata": {},
     "output_type": "execute_result"
    }
   ],
   "source": [
    "tubes_df.columns"
   ]
  },
  {
   "cell_type": "code",
   "execution_count": 21,
   "metadata": {
    "collapsed": false
   },
   "outputs": [
    {
     "name": "stdout",
     "output_type": "stream",
     "text": [
      "\n",
      "\n",
      "\n",
      "The 3 best matches to Tube ID #2 are:\n",
      "\n",
      "['2', '9', '43', '45']\n"
     ]
    },
    {
     "data": {
      "image/png": "[encoded data removed]",
      "text/plain": [
       "<matplotlib.figure.Figure at 0x11b144110>"
      ]
     },
     "metadata": {},
     "output_type": "display_data"
    }
   ],
   "source": [
    "# def find_match(tubes_df):\n",
    "tubes_df = df.copy()\n",
    "\n",
    "bias_list = list(tubes_df)[3:]  # The list of bias voltage columns;  i.e. -50, -46, -42, -38, -etc.\n",
    "bias_diff_list = []             # The list of new _diff^2 columns, to hold the difference values from tube_to_match\n",
    "\n",
    "# For every bias voltage column in the DataFrame, add a new column with the suffix '_diff^2' after the name.\n",
    "for i in bias_list:\n",
    "    newcolumn = str(i + '_diff^2')\n",
    "    tubes_df[newcolumn] = tubes_df[i]\n",
    "    bias_diff_list.append(newcolumn)\n",
    "\n",
    "tube_to_match = tubes_df[tubes_df.tube_ID == str(user_choice)]\n",
    "# Compute the square of the difference of each current measurement for every tube, compared to the tube_to_match\n",
    "# Put all the data into the appropriate _diff^2 column.\n",
    "for i in range(len(bias_diff_list)):\n",
    "    tubes_df[bias_diff_list[i]] = tubes_df[bias_diff_list[i]].apply(lambda x: abs(float(x) - float(tube_to_match[bias_diff_list[i]].values[0]))**2)\n",
    "\n",
    "\n",
    "# Add a column called squares_sum and compute the sum of all the diff squares on each row\n",
    "tubes_df['squares_sum'] = tubes_df[bias_diff_list].sum(axis=1)\n",
    "\n",
    "# Sort ascending by squares_sum.\n",
    "tubes_df_sorted = tubes_df.sort_values('squares_sum')\n",
    "\n",
    "# Print the results\n",
    "print(\"\\n\\n\\nThe %s best matches to Tube ID #%s are:\\n\" % (n_matches, user_choice))\n",
    "match_list_pdseries = tubes_df_sorted['tube_ID']\n",
    "match_list = match_list_pdseries.tolist()\n",
    "match_list = match_list[0:(int(n_matches)+1)]\n",
    "print(match_list)\n",
    "\n",
    "temp = pd.DataFrame()\n",
    "for i in match_list:\n",
    "    temp = temp.append(tubes_df[tubes_df.tube_ID == i].copy(), )\n",
    "\n",
    "plot_all(temp)\n",
    "    \n",
    "# Ask the user if they'd like to see a plot of the results\n",
    "# plot_results = input(\"\\nWould you like to see a plot of the results? y/n\")\n",
    "# if plot_results == 'y' or 'Y':\n",
    "# plot_matched(tubes_df, match_list)\n",
    "# else:\n",
    "#     print(\"\\n\\n\\nWell alright then.\")\n",
    "#     time.sleep(3)\n",
    "#     print(\"\\n\"*20)"
   ]
  },
  {
   "cell_type": "code",
   "execution_count": null,
   "metadata": {
    "collapsed": true
   },
   "outputs": [],
   "source": []
  }
 ],
 "metadata": {
  "kernelspec": {
   "display_name": "Python 2",
   "language": "python",
   "name": "python2"
  },
  "language_info": {
   "codemirror_mode": {
    "name": "ipython",
    "version": 2
   },
   "file_extension": ".py",
   "mimetype": "text/x-python",
   "name": "python",
   "nbconvert_exporter": "python",
   "pygments_lexer": "ipython2",
   "version": "2.7.13"
  }
 },
 "nbformat": 4,
 "nbformat_minor": 2
}
