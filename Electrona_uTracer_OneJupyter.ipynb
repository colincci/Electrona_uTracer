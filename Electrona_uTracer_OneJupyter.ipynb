{
 "cells": [
  {
   "cell_type": "markdown",
   "metadata": {},
   "source": [
    "<img src=\"https://electronaut.info/wp-content/uploads/2017/05/Tubescape_jupyter2.jpg\">"
   ]
  },
  {
   "cell_type": "markdown",
   "metadata": {},
   "source": [
    "<h1><font color = b30000>TUBE DATA MATCHER for uTRACER FILES</font></h1><h5>Anode current for a sweep of grid voltages  when anode voltage = constant</h5>\n"
   ]
  },
  {
   "cell_type": "markdown",
   "metadata": {},
   "source": [
    "# STEP 1 — Import and process tube data, build dataframe."
   ]
  },
  {
   "cell_type": "code",
   "execution_count": 1,
   "metadata": {
    "scrolled": true
   },
   "outputs": [
    {
     "name": "stdout",
     "output_type": "stream",
     "text": [
      "Please enter the path to the folder containing the uTracer files: /Users/rrmc/github_rrMacKinnon/Electrona_uTracer/SampleTubeData\n",
      "PLEASE NOTE: This script assumes all the files in the chosen directory are for the same type of tube!\n",
      "\n",
      "What type of tubes are these? 5749\n",
      "\n",
      "— — — — — \n",
      "\n",
      "Data from 49 tubes of type 5749 was successfully read.\n",
      "A dataframe containing all 49 tubes was successfully created.\n"
     ]
    },
    {
     "data": {
      "text/html": [
       "<div>\n",
       "<table border=\"1\" class=\"dataframe\">\n",
       "  <thead>\n",
       "    <tr style=\"text-align: right;\">\n",
       "      <th></th>\n",
       "      <th>tube_ID</th>\n",
       "      <th>tube_type</th>\n",
       "      <th>anode_voltage</th>\n",
       "      <th>Bias_2</th>\n",
       "      <th>Bias_6</th>\n",
       "      <th>Bias_10</th>\n",
       "      <th>Bias_14</th>\n",
       "      <th>Bias_18</th>\n",
       "      <th>Bias_22</th>\n",
       "      <th>Bias_26</th>\n",
       "      <th>Bias_30</th>\n",
       "      <th>Bias_34</th>\n",
       "      <th>Bias_38</th>\n",
       "      <th>Bias_42</th>\n",
       "      <th>Bias_46</th>\n",
       "      <th>Bias_50</th>\n",
       "    </tr>\n",
       "  </thead>\n",
       "  <tbody>\n",
       "    <tr>\n",
       "      <th>0</th>\n",
       "      <td>1</td>\n",
       "      <td>5749</td>\n",
       "      <td>325</td>\n",
       "      <td>99.278</td>\n",
       "      <td>65.383</td>\n",
       "      <td>44.717</td>\n",
       "      <td>34.082</td>\n",
       "      <td>26.669</td>\n",
       "      <td>20.931</td>\n",
       "      <td>16.492</td>\n",
       "      <td>12.992</td>\n",
       "      <td>10.291</td>\n",
       "      <td>8.23</td>\n",
       "      <td>6.669</td>\n",
       "      <td>5.495</td>\n",
       "      <td>4.626</td>\n",
       "    </tr>\n",
       "    <tr>\n",
       "      <th>1</th>\n",
       "      <td>10</td>\n",
       "      <td>5749</td>\n",
       "      <td>325</td>\n",
       "      <td>84.662</td>\n",
       "      <td>55.752</td>\n",
       "      <td>37.5</td>\n",
       "      <td>27.666</td>\n",
       "      <td>20.873</td>\n",
       "      <td>15.84</td>\n",
       "      <td>12.088</td>\n",
       "      <td>9.304</td>\n",
       "      <td>7.261</td>\n",
       "      <td>5.807</td>\n",
       "      <td>4.747</td>\n",
       "      <td>3.945</td>\n",
       "      <td>3.344</td>\n",
       "    </tr>\n",
       "    <tr>\n",
       "      <th>2</th>\n",
       "      <td>11</td>\n",
       "      <td>5749</td>\n",
       "      <td>325</td>\n",
       "      <td>57.956</td>\n",
       "      <td>39.019</td>\n",
       "      <td>26.465</td>\n",
       "      <td>19.832</td>\n",
       "      <td>14.986</td>\n",
       "      <td>11.21</td>\n",
       "      <td>8.358</td>\n",
       "      <td>6.284</td>\n",
       "      <td>4.834</td>\n",
       "      <td>3.863</td>\n",
       "      <td>3.22</td>\n",
       "      <td>2.752</td>\n",
       "      <td>2.418</td>\n",
       "    </tr>\n",
       "    <tr>\n",
       "      <th>3</th>\n",
       "      <td>12</td>\n",
       "      <td>5749</td>\n",
       "      <td>325</td>\n",
       "      <td>85.883</td>\n",
       "      <td>52.717</td>\n",
       "      <td>33.817</td>\n",
       "      <td>24.6</td>\n",
       "      <td>18.367</td>\n",
       "      <td>13.795</td>\n",
       "      <td>10.481</td>\n",
       "      <td>8.071</td>\n",
       "      <td>6.345</td>\n",
       "      <td>5.144</td>\n",
       "      <td>4.268</td>\n",
       "      <td>3.592</td>\n",
       "      <td>3.043</td>\n",
       "    </tr>\n",
       "    <tr>\n",
       "      <th>4</th>\n",
       "      <td>13</td>\n",
       "      <td>5749</td>\n",
       "      <td>325</td>\n",
       "      <td>90.664</td>\n",
       "      <td>57.346</td>\n",
       "      <td>37.541</td>\n",
       "      <td>27.686</td>\n",
       "      <td>21.015</td>\n",
       "      <td>16.003</td>\n",
       "      <td>12.239</td>\n",
       "      <td>9.433</td>\n",
       "      <td>7.395</td>\n",
       "      <td>5.967</td>\n",
       "      <td>4.977</td>\n",
       "      <td>4.267</td>\n",
       "      <td>3.759</td>\n",
       "    </tr>\n",
       "  </tbody>\n",
       "</table>\n",
       "</div>"
      ],
      "text/plain": [
       "  tube_ID tube_type anode_voltage  Bias_2  Bias_6 Bias_10 Bias_14 Bias_18  \\\n",
       "0       1      5749           325  99.278  65.383  44.717  34.082  26.669   \n",
       "1      10      5749           325  84.662  55.752    37.5  27.666  20.873   \n",
       "2      11      5749           325  57.956  39.019  26.465  19.832  14.986   \n",
       "3      12      5749           325  85.883  52.717  33.817    24.6  18.367   \n",
       "4      13      5749           325  90.664  57.346  37.541  27.686  21.015   \n",
       "\n",
       "  Bias_22 Bias_26 Bias_30 Bias_34 Bias_38 Bias_42 Bias_46 Bias_50  \n",
       "0  20.931  16.492  12.992  10.291    8.23   6.669   5.495   4.626  \n",
       "1   15.84  12.088   9.304   7.261   5.807   4.747   3.945   3.344  \n",
       "2   11.21   8.358   6.284   4.834   3.863    3.22   2.752   2.418  \n",
       "3  13.795  10.481   8.071   6.345   5.144   4.268   3.592   3.043  \n",
       "4  16.003  12.239   9.433   7.395   5.967   4.977   4.267   3.759  "
      ]
     },
     "execution_count": 1,
     "metadata": {},
     "output_type": "execute_result"
    }
   ],
   "source": [
    "from electronaut_uTracer_Import import *\n",
    "df.head()"
   ]
  },
  {
   "cell_type": "markdown",
   "metadata": {},
   "source": [
    "##### TODO:  INSERT PLOT OF ALL TUBES"
   ]
  },
  {
   "cell_type": "markdown",
   "metadata": {},
   "source": [
    "# STEP 3: Show the statistics of the tube data set"
   ]
  },
  {
   "cell_type": "code",
   "execution_count": 2,
   "metadata": {},
   "outputs": [
    {
     "data": {
      "text/html": [
       "<div>\n",
       "<table border=\"1\" class=\"dataframe\">\n",
       "  <thead>\n",
       "    <tr style=\"text-align: right;\">\n",
       "      <th></th>\n",
       "      <th>tube_ID</th>\n",
       "      <th>tube_type</th>\n",
       "      <th>anode_voltage</th>\n",
       "      <th>Bias_2</th>\n",
       "      <th>Bias_6</th>\n",
       "      <th>Bias_10</th>\n",
       "      <th>Bias_14</th>\n",
       "      <th>Bias_18</th>\n",
       "      <th>Bias_22</th>\n",
       "      <th>Bias_26</th>\n",
       "      <th>Bias_30</th>\n",
       "      <th>Bias_34</th>\n",
       "      <th>Bias_38</th>\n",
       "      <th>Bias_42</th>\n",
       "      <th>Bias_46</th>\n",
       "      <th>Bias_50</th>\n",
       "    </tr>\n",
       "  </thead>\n",
       "  <tbody>\n",
       "    <tr>\n",
       "      <th>count</th>\n",
       "      <td>49.000000</td>\n",
       "      <td>49</td>\n",
       "      <td>49.0</td>\n",
       "      <td>49.000000</td>\n",
       "      <td>49.000000</td>\n",
       "      <td>49.000000</td>\n",
       "      <td>49.000000</td>\n",
       "      <td>49.000000</td>\n",
       "      <td>49.000000</td>\n",
       "      <td>49.000000</td>\n",
       "      <td>49.000000</td>\n",
       "      <td>49.000000</td>\n",
       "      <td>49.000000</td>\n",
       "      <td>49.000000</td>\n",
       "      <td>49.000000</td>\n",
       "      <td>49.000000</td>\n",
       "    </tr>\n",
       "    <tr>\n",
       "      <th>mean</th>\n",
       "      <td>25.183673</td>\n",
       "      <td>5749</td>\n",
       "      <td>325.0</td>\n",
       "      <td>84.799673</td>\n",
       "      <td>54.311041</td>\n",
       "      <td>36.111408</td>\n",
       "      <td>26.890265</td>\n",
       "      <td>20.579020</td>\n",
       "      <td>15.856878</td>\n",
       "      <td>12.301735</td>\n",
       "      <td>9.640918</td>\n",
       "      <td>7.677776</td>\n",
       "      <td>6.246265</td>\n",
       "      <td>5.190184</td>\n",
       "      <td>4.378469</td>\n",
       "      <td>3.770286</td>\n",
       "    </tr>\n",
       "    <tr>\n",
       "      <th>std</th>\n",
       "      <td>14.554028</td>\n",
       "      <td>0</td>\n",
       "      <td>0.0</td>\n",
       "      <td>9.698785</td>\n",
       "      <td>6.042972</td>\n",
       "      <td>4.372425</td>\n",
       "      <td>3.511439</td>\n",
       "      <td>3.065207</td>\n",
       "      <td>2.746162</td>\n",
       "      <td>2.472266</td>\n",
       "      <td>2.223436</td>\n",
       "      <td>1.987546</td>\n",
       "      <td>1.758411</td>\n",
       "      <td>1.545969</td>\n",
       "      <td>1.361598</td>\n",
       "      <td>1.225021</td>\n",
       "    </tr>\n",
       "    <tr>\n",
       "      <th>min</th>\n",
       "      <td>1.000000</td>\n",
       "      <td>5749</td>\n",
       "      <td>325.0</td>\n",
       "      <td>55.209000</td>\n",
       "      <td>38.328000</td>\n",
       "      <td>25.882000</td>\n",
       "      <td>19.516000</td>\n",
       "      <td>14.487000</td>\n",
       "      <td>10.815000</td>\n",
       "      <td>8.044000</td>\n",
       "      <td>5.992000</td>\n",
       "      <td>4.557000</td>\n",
       "      <td>3.600000</td>\n",
       "      <td>2.975000</td>\n",
       "      <td>2.525000</td>\n",
       "      <td>2.180000</td>\n",
       "    </tr>\n",
       "    <tr>\n",
       "      <th>25%</th>\n",
       "      <td>13.000000</td>\n",
       "      <td>5749</td>\n",
       "      <td>325.0</td>\n",
       "      <td>80.152000</td>\n",
       "      <td>51.370000</td>\n",
       "      <td>33.824000</td>\n",
       "      <td>24.949000</td>\n",
       "      <td>18.770000</td>\n",
       "      <td>14.291000</td>\n",
       "      <td>10.876000</td>\n",
       "      <td>8.414000</td>\n",
       "      <td>6.599000</td>\n",
       "      <td>5.211000</td>\n",
       "      <td>4.268000</td>\n",
       "      <td>3.592000</td>\n",
       "      <td>3.043000</td>\n",
       "    </tr>\n",
       "    <tr>\n",
       "      <th>50%</th>\n",
       "      <td>25.000000</td>\n",
       "      <td>5749</td>\n",
       "      <td>325.0</td>\n",
       "      <td>86.052000</td>\n",
       "      <td>54.921000</td>\n",
       "      <td>36.069000</td>\n",
       "      <td>26.743000</td>\n",
       "      <td>20.632000</td>\n",
       "      <td>15.688000</td>\n",
       "      <td>12.030000</td>\n",
       "      <td>9.304000</td>\n",
       "      <td>7.318000</td>\n",
       "      <td>5.906000</td>\n",
       "      <td>4.889000</td>\n",
       "      <td>4.090000</td>\n",
       "      <td>3.487000</td>\n",
       "    </tr>\n",
       "    <tr>\n",
       "      <th>75%</th>\n",
       "      <td>37.000000</td>\n",
       "      <td>5749</td>\n",
       "      <td>325.0</td>\n",
       "      <td>90.054000</td>\n",
       "      <td>57.685000</td>\n",
       "      <td>38.138000</td>\n",
       "      <td>28.520000</td>\n",
       "      <td>21.656000</td>\n",
       "      <td>17.533000</td>\n",
       "      <td>14.101000</td>\n",
       "      <td>11.081000</td>\n",
       "      <td>8.787000</td>\n",
       "      <td>7.086000</td>\n",
       "      <td>5.857000</td>\n",
       "      <td>4.969000</td>\n",
       "      <td>4.293000</td>\n",
       "    </tr>\n",
       "    <tr>\n",
       "      <th>max</th>\n",
       "      <td>50.000000</td>\n",
       "      <td>5749</td>\n",
       "      <td>325.0</td>\n",
       "      <td>100.431000</td>\n",
       "      <td>65.603000</td>\n",
       "      <td>46.996000</td>\n",
       "      <td>36.666000</td>\n",
       "      <td>30.080000</td>\n",
       "      <td>25.292000</td>\n",
       "      <td>21.460000</td>\n",
       "      <td>18.384000</td>\n",
       "      <td>15.898000</td>\n",
       "      <td>13.867000</td>\n",
       "      <td>12.198000</td>\n",
       "      <td>10.760000</td>\n",
       "      <td>9.616000</td>\n",
       "    </tr>\n",
       "  </tbody>\n",
       "</table>\n",
       "</div>"
      ],
      "text/plain": [
       "         tube_ID tube_type  anode_voltage      Bias_2     Bias_6    Bias_10  \\\n",
       "count  49.000000        49           49.0   49.000000  49.000000  49.000000   \n",
       "mean   25.183673      5749          325.0   84.799673  54.311041  36.111408   \n",
       "std    14.554028         0            0.0    9.698785   6.042972   4.372425   \n",
       "min     1.000000      5749          325.0   55.209000  38.328000  25.882000   \n",
       "25%    13.000000      5749          325.0   80.152000  51.370000  33.824000   \n",
       "50%    25.000000      5749          325.0   86.052000  54.921000  36.069000   \n",
       "75%    37.000000      5749          325.0   90.054000  57.685000  38.138000   \n",
       "max    50.000000      5749          325.0  100.431000  65.603000  46.996000   \n",
       "\n",
       "         Bias_14    Bias_18    Bias_22    Bias_26    Bias_30    Bias_34  \\\n",
       "count  49.000000  49.000000  49.000000  49.000000  49.000000  49.000000   \n",
       "mean   26.890265  20.579020  15.856878  12.301735   9.640918   7.677776   \n",
       "std     3.511439   3.065207   2.746162   2.472266   2.223436   1.987546   \n",
       "min    19.516000  14.487000  10.815000   8.044000   5.992000   4.557000   \n",
       "25%    24.949000  18.770000  14.291000  10.876000   8.414000   6.599000   \n",
       "50%    26.743000  20.632000  15.688000  12.030000   9.304000   7.318000   \n",
       "75%    28.520000  21.656000  17.533000  14.101000  11.081000   8.787000   \n",
       "max    36.666000  30.080000  25.292000  21.460000  18.384000  15.898000   \n",
       "\n",
       "         Bias_38    Bias_42    Bias_46    Bias_50  \n",
       "count  49.000000  49.000000  49.000000  49.000000  \n",
       "mean    6.246265   5.190184   4.378469   3.770286  \n",
       "std     1.758411   1.545969   1.361598   1.225021  \n",
       "min     3.600000   2.975000   2.525000   2.180000  \n",
       "25%     5.211000   4.268000   3.592000   3.043000  \n",
       "50%     5.906000   4.889000   4.090000   3.487000  \n",
       "75%     7.086000   5.857000   4.969000   4.293000  \n",
       "max    13.867000  12.198000  10.760000   9.616000  "
      ]
     },
     "execution_count": 2,
     "metadata": {},
     "output_type": "execute_result"
    }
   ],
   "source": [
    "df_stats = df.astype(float).describe()\n",
    "df_stats.loc[:, 'tube_type'] = df_stats.loc[:, 'tube_type'].astype(int)\n",
    "df_stats.loc[:, 'tube_type'] = df_stats.loc[:, 'tube_type'].astype(str)\n",
    "df_stats"
   ]
  },
  {
   "cell_type": "markdown",
   "metadata": {},
   "source": [
    "##### TODO:  INSERT PLOT(S) OF STATISTICS "
   ]
  },
  {
   "cell_type": "markdown",
   "metadata": {},
   "source": [
    "# STEP 4: Calculate the differences between all tubes"
   ]
  },
  {
   "cell_type": "code",
   "execution_count": 3,
   "metadata": {
    "collapsed": true
   },
   "outputs": [],
   "source": [
    "def build_difference_df(df, df_stats):\n",
    "       \n",
    "    # Make a list of all the columns in the dataframe\n",
    "    cols = list(df.columns)\n",
    "    \n",
    "    # Make a list of just the bias columns\n",
    "    bias_list = []\n",
    "    for i in cols:\n",
    "        if i.startswith('Bias_') == True:\n",
    "            bias_list.append(i)\n",
    "    \n",
    "    # BMake an empty list to hold the calculated values, to be used to build the difference dataframe\n",
    "    diff_squared_list = []\n",
    "    \n",
    "    # Iterate through the index of tubes in the master dataframe to select a reference tube\n",
    "    for each_ref_tube in df.index:\n",
    "        \n",
    "        # Get the next reference tube data, as a series\n",
    "        ref_tube = df.iloc[each_ref_tube]\n",
    "        ref_tube_ID = ref_tube.tube_ID\n",
    "\n",
    "        # Iterate through the index of tubes in the master dataframe to select a match tube\n",
    "        for each_match_tube in df.index:\n",
    "            \n",
    "            # Get the next tube data to be compared, as a series\n",
    "            match_tube = df.iloc[each_match_tube]\n",
    "            match_tube_ID = match_tube.tube_ID\n",
    "            \n",
    "            # Dictionary container to hold the difference variables for each tube\n",
    "            temp_dict = {}\n",
    "            \n",
    "            # Compute the squares of the differences in each current measurement\n",
    "            error_sum = 0\n",
    "            for bias in enumerate(bias_list):\n",
    "                mismatch = ((float(match_tube.loc[bias[1]]) - float(ref_tube.loc[bias[1]]))**2)\n",
    "                temp_dict[bias[1]] = mismatch\n",
    "                error_sum = error_sum + mismatch\n",
    "\n",
    "            # Add other relevant key/value pairs to the dictionary  \n",
    "            temp_dict['ref_tube_ID'] = ref_tube_ID\n",
    "            temp_dict['match_tube_ID'] = match_tube_ID\n",
    "            temp_dict['error_sum'] = error_sum\n",
    "\n",
    "            # Append the tube's calculated values to the diff_squared_list\n",
    "            diff_squared_list.append(temp_dict)\n",
    "        \n",
    "    df_dif = pd.DataFrame(diff_squared_list)\n",
    "    return df_dif\n",
    "    \n",
    "    \n",
    "df_dif = build_difference_df(df, df_stats)"
   ]
  },
  {
   "cell_type": "code",
   "execution_count": 5,
   "metadata": {},
   "outputs": [
    {
     "data": {
      "text/html": [
       "<div>\n",
       "<table border=\"1\" class=\"dataframe\">\n",
       "  <thead>\n",
       "    <tr style=\"text-align: right;\">\n",
       "      <th></th>\n",
       "      <th>Bias_10</th>\n",
       "      <th>Bias_14</th>\n",
       "      <th>Bias_18</th>\n",
       "      <th>Bias_2</th>\n",
       "      <th>Bias_22</th>\n",
       "      <th>Bias_26</th>\n",
       "      <th>Bias_30</th>\n",
       "      <th>Bias_34</th>\n",
       "      <th>Bias_38</th>\n",
       "      <th>Bias_42</th>\n",
       "      <th>Bias_46</th>\n",
       "      <th>Bias_50</th>\n",
       "      <th>Bias_6</th>\n",
       "      <th>error_sum</th>\n",
       "      <th>match_tube_ID</th>\n",
       "      <th>ref_tube_ID</th>\n",
       "    </tr>\n",
       "  </thead>\n",
       "  <tbody>\n",
       "    <tr>\n",
       "      <th>0</th>\n",
       "      <td>0.000000</td>\n",
       "      <td>0.000000</td>\n",
       "      <td>0.000000</td>\n",
       "      <td>0.000000</td>\n",
       "      <td>0.000000</td>\n",
       "      <td>0.000000</td>\n",
       "      <td>0.000000</td>\n",
       "      <td>0.000000</td>\n",
       "      <td>0.000000</td>\n",
       "      <td>0.000000</td>\n",
       "      <td>0.000000</td>\n",
       "      <td>0.000000</td>\n",
       "      <td>0.000000</td>\n",
       "      <td>0.000000</td>\n",
       "      <td>1</td>\n",
       "      <td>1</td>\n",
       "    </tr>\n",
       "    <tr>\n",
       "      <th>1</th>\n",
       "      <td>52.085089</td>\n",
       "      <td>41.165056</td>\n",
       "      <td>33.593616</td>\n",
       "      <td>213.627456</td>\n",
       "      <td>25.918281</td>\n",
       "      <td>19.395216</td>\n",
       "      <td>13.601344</td>\n",
       "      <td>9.180900</td>\n",
       "      <td>5.870929</td>\n",
       "      <td>3.694084</td>\n",
       "      <td>2.402500</td>\n",
       "      <td>1.643524</td>\n",
       "      <td>92.756161</td>\n",
       "      <td>514.934156</td>\n",
       "      <td>10</td>\n",
       "      <td>1</td>\n",
       "    </tr>\n",
       "    <tr>\n",
       "      <th>2</th>\n",
       "      <td>333.135504</td>\n",
       "      <td>203.062500</td>\n",
       "      <td>136.492489</td>\n",
       "      <td>1707.507684</td>\n",
       "      <td>94.497841</td>\n",
       "      <td>66.161956</td>\n",
       "      <td>44.997264</td>\n",
       "      <td>29.778849</td>\n",
       "      <td>19.070689</td>\n",
       "      <td>11.895601</td>\n",
       "      <td>7.524049</td>\n",
       "      <td>4.875264</td>\n",
       "      <td>695.060496</td>\n",
       "      <td>3354.060186</td>\n",
       "      <td>11</td>\n",
       "      <td>1</td>\n",
       "    </tr>\n",
       "    <tr>\n",
       "      <th>3</th>\n",
       "      <td>118.810000</td>\n",
       "      <td>89.908324</td>\n",
       "      <td>68.923204</td>\n",
       "      <td>179.426025</td>\n",
       "      <td>50.922496</td>\n",
       "      <td>36.132121</td>\n",
       "      <td>24.216241</td>\n",
       "      <td>15.570916</td>\n",
       "      <td>9.523396</td>\n",
       "      <td>5.764801</td>\n",
       "      <td>3.621409</td>\n",
       "      <td>2.505889</td>\n",
       "      <td>160.427556</td>\n",
       "      <td>765.752378</td>\n",
       "      <td>12</td>\n",
       "      <td>1</td>\n",
       "    </tr>\n",
       "    <tr>\n",
       "      <th>4</th>\n",
       "      <td>51.494976</td>\n",
       "      <td>40.908816</td>\n",
       "      <td>31.967716</td>\n",
       "      <td>74.200996</td>\n",
       "      <td>24.285184</td>\n",
       "      <td>18.088009</td>\n",
       "      <td>12.666481</td>\n",
       "      <td>8.386816</td>\n",
       "      <td>5.121169</td>\n",
       "      <td>2.862864</td>\n",
       "      <td>1.507984</td>\n",
       "      <td>0.751689</td>\n",
       "      <td>64.593369</td>\n",
       "      <td>336.836069</td>\n",
       "      <td>13</td>\n",
       "      <td>1</td>\n",
       "    </tr>\n",
       "  </tbody>\n",
       "</table>\n",
       "</div>"
      ],
      "text/plain": [
       "      Bias_10     Bias_14     Bias_18       Bias_2    Bias_22    Bias_26  \\\n",
       "0    0.000000    0.000000    0.000000     0.000000   0.000000   0.000000   \n",
       "1   52.085089   41.165056   33.593616   213.627456  25.918281  19.395216   \n",
       "2  333.135504  203.062500  136.492489  1707.507684  94.497841  66.161956   \n",
       "3  118.810000   89.908324   68.923204   179.426025  50.922496  36.132121   \n",
       "4   51.494976   40.908816   31.967716    74.200996  24.285184  18.088009   \n",
       "\n",
       "     Bias_30    Bias_34    Bias_38    Bias_42   Bias_46   Bias_50      Bias_6  \\\n",
       "0   0.000000   0.000000   0.000000   0.000000  0.000000  0.000000    0.000000   \n",
       "1  13.601344   9.180900   5.870929   3.694084  2.402500  1.643524   92.756161   \n",
       "2  44.997264  29.778849  19.070689  11.895601  7.524049  4.875264  695.060496   \n",
       "3  24.216241  15.570916   9.523396   5.764801  3.621409  2.505889  160.427556   \n",
       "4  12.666481   8.386816   5.121169   2.862864  1.507984  0.751689   64.593369   \n",
       "\n",
       "     error_sum match_tube_ID ref_tube_ID  \n",
       "0     0.000000             1           1  \n",
       "1   514.934156            10           1  \n",
       "2  3354.060186            11           1  \n",
       "3   765.752378            12           1  \n",
       "4   336.836069            13           1  "
      ]
     },
     "execution_count": 5,
     "metadata": {},
     "output_type": "execute_result"
    }
   ],
   "source": [
    "df_dif.head()"
   ]
  },
  {
   "cell_type": "code",
   "execution_count": 15,
   "metadata": {},
   "outputs": [
    {
     "data": {
      "application/vnd.jupyter.widget-view+json": {
       "model_id": "dfd0c96027fe40b6a9489371a7b3d4c7"
      }
     },
     "metadata": {},
     "output_type": "display_data"
    },
    {
     "data": {
      "application/vnd.jupyter.widget-view+json": {
       "model_id": "9ed2b1e1c1954fa99e216151ce1c6f36"
      }
     },
     "metadata": {},
     "output_type": "display_data"
    }
   ],
   "source": [
    "import ipywidgets as wg\n",
    "from IPython.display import display\n",
    "\n",
    "# Make a list of all the tube_ID names, then build a select box with those values\n",
    "tube_list = list(df.loc[:, 'tube_ID'])\n",
    "tube_list.sort(key=int)\n",
    "tube_ID_select_box = wg.Select(options=tube_list, value=tube_list[0], description='Reference Tube', disabled=False)\n",
    "\n",
    "# Make a list of the tubes for the \"Matched Tubes\" selectMultiple box\n",
    "matched_list = ['1', '33', '67', '22', '45']\n",
    "matched_tube_box = wg.SelectMultiple(options=matched_list, description=\"Matched Tubes\")\n",
    "\n",
    "# def respond(sender):\n",
    "    # pass the chosen Tube_ID to a function that looks up the resulting match list, then fill the match list box\n",
    "    \n",
    "    \n",
    "display(tube_ID_select_box,matched_tube_box)\n",
    "# tube_ID_select_box.observe(respond)"
   ]
  },
  {
   "cell_type": "markdown",
   "metadata": {},
   "source": [
    "# STEP 5: Filter the results to find matches of any set size"
   ]
  },
  {
   "cell_type": "code",
   "execution_count": null,
   "metadata": {
    "scrolled": true
   },
   "outputs": [],
   "source": [
    "# Enter the tube to be matched and the size of the matched set\n",
    "tube_to_match = 1\n",
    "\n",
    "tube_set_size = 8\n",
    "\n",
    "tube_to_match = str(tube_to_match)\n",
    "\n",
    "# Sorting the dataframe to show the nearest matches to the chosen tube_to_match\n",
    "df_dif[(df_dif.ref_tube_ID == tube_to_match)].sort_values('error_sum').head(tube_set_size)\n"
   ]
  },
  {
   "cell_type": "code",
   "execution_count": null,
   "metadata": {
    "collapsed": true
   },
   "outputs": [],
   "source": []
  },
  {
   "cell_type": "markdown",
   "metadata": {},
   "source": [
    "### Make a function that receives tube_to_match and tube_set_size arguments, adds up the total of all the error_sum values per set for a set score, then sorts and displays all set scores."
   ]
  },
  {
   "cell_type": "markdown",
   "metadata": {},
   "source": [
    "### Consider adding a column called \"available\", and any matched sets can be removed from the remaining dataset by toggling the availability to False."
   ]
  },
  {
   "cell_type": "markdown",
   "metadata": {},
   "source": [
    "# Miscellaneous stuff"
   ]
  },
  {
   "cell_type": "markdown",
   "metadata": {},
   "source": [
    "##### Apply a function to a column\n",
    "df.Bias_2.max()"
   ]
  },
  {
   "cell_type": "code",
   "execution_count": null,
   "metadata": {
    "collapsed": true
   },
   "outputs": [],
   "source": [
    "# Applymap is useful for applying a function to all data\n",
    "# For example, converting all data from floats to ints\n",
    "# df.loc[2:7, 'Bias_2': 'Bias_50'].applymap(int)"
   ]
  },
  {
   "cell_type": "code",
   "execution_count": null,
   "metadata": {
    "collapsed": true
   },
   "outputs": [],
   "source": [
    "# List all available magics\n",
    "% lsmagic"
   ]
  },
  {
   "cell_type": "code",
   "execution_count": null,
   "metadata": {
    "collapsed": true
   },
   "outputs": [],
   "source": [
    "# Display environmental variables\n",
    "env_variables = %env\n",
    "current_path = env_variables.get('PATH')\n",
    "current_path"
   ]
  },
  {
   "cell_type": "code",
   "execution_count": null,
   "metadata": {
    "collapsed": true
   },
   "outputs": [],
   "source": [
    "mydict = % env\n",
    "mydict.keys()"
   ]
  },
  {
   "cell_type": "code",
   "execution_count": null,
   "metadata": {
    "collapsed": true
   },
   "outputs": [],
   "source": [
    "% env"
   ]
  },
  {
   "cell_type": "code",
   "execution_count": null,
   "metadata": {
    "collapsed": true
   },
   "outputs": [],
   "source": [
    "# % time x = range(10000)\n",
    "% timeit x = range(10000)\n",
    "max(x)"
   ]
  }
 ],
 "metadata": {
  "kernelspec": {
   "display_name": "Python 3",
   "language": "python",
   "name": "python3"
  },
  "language_info": {
   "codemirror_mode": {
    "name": "ipython",
    "version": 3
   },
   "file_extension": ".py",
   "mimetype": "text/x-python",
   "name": "python",
   "nbconvert_exporter": "python",
   "pygments_lexer": "ipython3",
   "version": "3.6.0"
  }
 },
 "nbformat": 4,
 "nbformat_minor": 2
}
