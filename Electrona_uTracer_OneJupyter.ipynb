{
 "cells": [
  {
   "cell_type": "markdown",
   "metadata": {},
   "source": [
    "<img src=\"https://electronaut.info/wp-content/uploads/2017/05/Tubescape_jupyter2.jpg\">"
   ]
  },
  {
   "cell_type": "markdown",
   "metadata": {},
   "source": [
    "<h1><font color = b30000>TUBE DATA MATCHER for uTRACER FILES</font></h1><h5>Anode current for a sweep of grid voltages  when anode voltage = constant</h5>\n"
   ]
  },
  {
   "cell_type": "markdown",
   "metadata": {},
   "source": [
    "# STEP 1 — Import the data"
   ]
  },
  {
   "cell_type": "code",
   "execution_count": 68,
   "metadata": {},
   "outputs": [
    {
     "name": "stdout",
     "output_type": "stream",
     "text": [
      "Please enter the path to the folder containing the uTracer files: /Users/rrmc/github_rrMacKinnon/Electrona_uTracer/SampleTubeData\n",
      "PLEASE NOTE: This script assumes all the files in the chosen directory are for the same type of tube!\n",
      "\n",
      "What type of tubes are these?5749\n",
      "\n",
      "— — — — — \n",
      "\n",
      "• This batch consists of 49 type 5749 tubes. The filenames are:\n",
      "\n",
      " ['1.utd', '10.utd', '11.utd', '12.utd', '13.utd', '14.utd', '15.utd', '16.utd', '17.utd', '18.utd', '19.utd', '2.utd', '20.utd', '21.utd', '22.utd', '23.utd', '24.utd', '25.utd', '26.utd', '27.utd', '28.utd', '29.utd', '3.utd', '30.utd', '31.utd', '32.utd', '33.utd', '34.utd', '35.utd', '36.utd', '37.utd', '38.utd', '39.utd', '4.utd', '40.utd', '42.utd', '43.utd', '44.utd', '45.utd', '46.utd', '47.utd', '48.utd', '49.utd', '5.utd', '50.utd', '6.utd', '7.utd', '8.utd', '9.utd']\n"
     ]
    }
   ],
   "source": [
    "chosen_folder = input(\"Please enter the path to the folder containing the uTracer files: \")\n",
    "print(\"PLEASE NOTE: This script assumes all the files in the chosen directory are for the same type of tube!\\n\")        \n",
    "tube_type = input(\"What type of tubes are these?\")\n",
    "\n",
    "print(\"\\n— — — — — \\n\")\n",
    "\n",
    "import os \n",
    "os.chdir(chosen_folder)\n",
    "list_of_tube_data_files_in_dir = []\n",
    "for file in os.listdir(chosen_folder):\n",
    "    if file.endswith(\".utd\"):\n",
    "        list_of_tube_data_files_in_dir.append(file)\n",
    "\n",
    "print(\"• This batch consists of\", len(list_of_tube_data_files_in_dir), \"type\", tube_type, \"tubes. The filenames are:\")\n",
    "print(\"\\n\", list_of_tube_data_files_in_dir)"
   ]
  },
  {
   "cell_type": "markdown",
   "metadata": {},
   "source": [
    "# STEP 2 — Process the uTracer files and build a dataframe"
   ]
  },
  {
   "cell_type": "code",
   "execution_count": 75,
   "metadata": {},
   "outputs": [
    {
     "name": "stdout",
     "output_type": "stream",
     "text": [
      "A dataframe contraining all 49 was successfully created.\n"
     ]
    }
   ],
   "source": [
    "import pandas as pd\n",
    "\n",
    "batch_list = list_of_tube_data_files_in_dir\n",
    "master_tube_list = []\n",
    "\n",
    "def import_tube_data_file(file_to_open):\n",
    "    while True:\n",
    "        try:\n",
    "            with open(file_to_open, 'r') as file:\n",
    "                file_contents_string = str(file.read())\n",
    "                file_contents_list = file_contents_string.split()\n",
    "\n",
    "                #  Extract the data from the file_contents_list and build a dictionary\n",
    "                x_values = [i for i in file_contents_list[8::2]]\n",
    "                y_values = [i for i in file_contents_list[9::2]]\n",
    "                anode_voltage = {'anode_voltage': file_contents_list[6]}\n",
    "                tube_ID = {'tube_ID': file_to_open[:-4]}\n",
    "                tube_data_extras = {**tube_ID, **anode_voltage}  # Combine dicts (Python 3.5)\n",
    "                tube_data_dict = {**tube_data_extras, **(dict(zip(x_values, y_values)))}\n",
    "\n",
    "        finally:\n",
    "                return tube_data_dict\n",
    "\n",
    "for tube in batch_list:\n",
    "    tube_data_dict = import_tube_data_file(tube)\n",
    "    tube_data_dict.update({'tube_type':tube_type})\n",
    "    master_tube_list.append(tube_data_dict) \n",
    "\n",
    "# Build the dataframe\n",
    "df = pd.DataFrame(master_tube_list)    \n",
    "\n",
    "# Make a list of all the columns\n",
    "cols = df.columns.tolist()\n",
    "\n",
    "# Make two new lists, separating the voltage values from the other strings.\n",
    "# Also, convert the voltages to absolute value ints, so they can be numerically sorted \n",
    "voltages = []\n",
    "other_stuff = []\n",
    "for i in cols:\n",
    "    if i.startswith('-'):\n",
    "        i = int(i[1:])\n",
    "        voltages.append(i)\n",
    "    else:\n",
    "        other_stuff.append(i)\n",
    "\n",
    "# Sort the voltages numerically\n",
    "voltages.sort()\n",
    "\n",
    "# Make a new list to hold the voltages and the other_stuff, properly ordered.\n",
    "cols_sorted = []\n",
    "\n",
    "# Add the '-' sign back in to all the voltages and convert to strings, now that they're sorted.\n",
    "voltages_sorted = []\n",
    "for i in voltages:\n",
    "    i = '-' + str(i)\n",
    "    voltages_sorted.append(i)\n",
    "    \n",
    "# Re-order the other_stuff to the desired order    \n",
    "other_stuff[0], other_stuff[1], other_stuff[2] = other_stuff[1], other_stuff[2], other_stuff[0]    \n",
    "\n",
    "# Stitch the two separate lists together to form the cols_sorted list.\n",
    "cols_sorted = other_stuff + voltages_sorted  \n",
    "\n",
    "# Redefine df with the sorted column list\n",
    "df = df[cols_sorted]\n",
    "\n",
    "# Change the bias voltage columns names to something friendlier\n",
    "column_names = [i.replace('-', 'Bias_') for i in cols_sorted]\n",
    "df.columns = column_names\n",
    "\n",
    "# Report how many tubes were processed\n",
    "total_tubes = df.shape[0]\n",
    "print(\"A dataframe contraining all\", total_tubes, \"was successfully created.\")"
   ]
  },
  {
   "cell_type": "code",
   "execution_count": 76,
   "metadata": {},
   "outputs": [
    {
     "data": {
      "text/html": [
       "<div>\n",
       "<table border=\"1\" class=\"dataframe\">\n",
       "  <thead>\n",
       "    <tr style=\"text-align: right;\">\n",
       "      <th></th>\n",
       "      <th>tube_ID</th>\n",
       "      <th>tube_type</th>\n",
       "      <th>anode_voltage</th>\n",
       "      <th>Bias_2</th>\n",
       "      <th>Bias_6</th>\n",
       "      <th>Bias_10</th>\n",
       "      <th>Bias_14</th>\n",
       "      <th>Bias_18</th>\n",
       "      <th>Bias_22</th>\n",
       "      <th>Bias_26</th>\n",
       "      <th>Bias_30</th>\n",
       "      <th>Bias_34</th>\n",
       "      <th>Bias_38</th>\n",
       "      <th>Bias_42</th>\n",
       "      <th>Bias_46</th>\n",
       "      <th>Bias_50</th>\n",
       "    </tr>\n",
       "  </thead>\n",
       "  <tbody>\n",
       "    <tr>\n",
       "      <th>0</th>\n",
       "      <td>1</td>\n",
       "      <td>5749</td>\n",
       "      <td>325</td>\n",
       "      <td>99.278</td>\n",
       "      <td>65.383</td>\n",
       "      <td>44.717</td>\n",
       "      <td>34.082</td>\n",
       "      <td>26.669</td>\n",
       "      <td>20.931</td>\n",
       "      <td>16.492</td>\n",
       "      <td>12.992</td>\n",
       "      <td>10.291</td>\n",
       "      <td>8.23</td>\n",
       "      <td>6.669</td>\n",
       "      <td>5.495</td>\n",
       "      <td>4.626</td>\n",
       "    </tr>\n",
       "    <tr>\n",
       "      <th>1</th>\n",
       "      <td>10</td>\n",
       "      <td>5749</td>\n",
       "      <td>325</td>\n",
       "      <td>84.662</td>\n",
       "      <td>55.752</td>\n",
       "      <td>37.5</td>\n",
       "      <td>27.666</td>\n",
       "      <td>20.873</td>\n",
       "      <td>15.84</td>\n",
       "      <td>12.088</td>\n",
       "      <td>9.304</td>\n",
       "      <td>7.261</td>\n",
       "      <td>5.807</td>\n",
       "      <td>4.747</td>\n",
       "      <td>3.945</td>\n",
       "      <td>3.344</td>\n",
       "    </tr>\n",
       "    <tr>\n",
       "      <th>2</th>\n",
       "      <td>11</td>\n",
       "      <td>5749</td>\n",
       "      <td>325</td>\n",
       "      <td>57.956</td>\n",
       "      <td>39.019</td>\n",
       "      <td>26.465</td>\n",
       "      <td>19.832</td>\n",
       "      <td>14.986</td>\n",
       "      <td>11.21</td>\n",
       "      <td>8.358</td>\n",
       "      <td>6.284</td>\n",
       "      <td>4.834</td>\n",
       "      <td>3.863</td>\n",
       "      <td>3.22</td>\n",
       "      <td>2.752</td>\n",
       "      <td>2.418</td>\n",
       "    </tr>\n",
       "    <tr>\n",
       "      <th>3</th>\n",
       "      <td>12</td>\n",
       "      <td>5749</td>\n",
       "      <td>325</td>\n",
       "      <td>85.883</td>\n",
       "      <td>52.717</td>\n",
       "      <td>33.817</td>\n",
       "      <td>24.6</td>\n",
       "      <td>18.367</td>\n",
       "      <td>13.795</td>\n",
       "      <td>10.481</td>\n",
       "      <td>8.071</td>\n",
       "      <td>6.345</td>\n",
       "      <td>5.144</td>\n",
       "      <td>4.268</td>\n",
       "      <td>3.592</td>\n",
       "      <td>3.043</td>\n",
       "    </tr>\n",
       "    <tr>\n",
       "      <th>4</th>\n",
       "      <td>13</td>\n",
       "      <td>5749</td>\n",
       "      <td>325</td>\n",
       "      <td>90.664</td>\n",
       "      <td>57.346</td>\n",
       "      <td>37.541</td>\n",
       "      <td>27.686</td>\n",
       "      <td>21.015</td>\n",
       "      <td>16.003</td>\n",
       "      <td>12.239</td>\n",
       "      <td>9.433</td>\n",
       "      <td>7.395</td>\n",
       "      <td>5.967</td>\n",
       "      <td>4.977</td>\n",
       "      <td>4.267</td>\n",
       "      <td>3.759</td>\n",
       "    </tr>\n",
       "  </tbody>\n",
       "</table>\n",
       "</div>"
      ],
      "text/plain": [
       "  tube_ID tube_type anode_voltage  Bias_2  Bias_6 Bias_10 Bias_14 Bias_18  \\\n",
       "0       1      5749           325  99.278  65.383  44.717  34.082  26.669   \n",
       "1      10      5749           325  84.662  55.752    37.5  27.666  20.873   \n",
       "2      11      5749           325  57.956  39.019  26.465  19.832  14.986   \n",
       "3      12      5749           325  85.883  52.717  33.817    24.6  18.367   \n",
       "4      13      5749           325  90.664  57.346  37.541  27.686  21.015   \n",
       "\n",
       "  Bias_22 Bias_26 Bias_30 Bias_34 Bias_38 Bias_42 Bias_46 Bias_50  \n",
       "0  20.931  16.492  12.992  10.291    8.23   6.669   5.495   4.626  \n",
       "1   15.84  12.088   9.304   7.261   5.807   4.747   3.945   3.344  \n",
       "2   11.21   8.358   6.284   4.834   3.863    3.22   2.752   2.418  \n",
       "3  13.795  10.481   8.071   6.345   5.144   4.268   3.592   3.043  \n",
       "4  16.003  12.239   9.433   7.395   5.967   4.977   4.267   3.759  "
      ]
     },
     "execution_count": 76,
     "metadata": {},
     "output_type": "execute_result"
    }
   ],
   "source": [
    "df.head()"
   ]
  },
  {
   "cell_type": "code",
   "execution_count": 87,
   "metadata": {},
   "outputs": [
    {
     "data": {
      "text/html": [
       "<div>\n",
       "<table border=\"1\" class=\"dataframe\">\n",
       "  <thead>\n",
       "    <tr style=\"text-align: right;\">\n",
       "      <th></th>\n",
       "      <th>Bias_2</th>\n",
       "      <th>Bias_6</th>\n",
       "      <th>Bias_10</th>\n",
       "      <th>Bias_14</th>\n",
       "      <th>Bias_18</th>\n",
       "      <th>Bias_22</th>\n",
       "      <th>Bias_26</th>\n",
       "      <th>Bias_30</th>\n",
       "      <th>Bias_34</th>\n",
       "      <th>Bias_38</th>\n",
       "      <th>Bias_42</th>\n",
       "      <th>Bias_46</th>\n",
       "      <th>Bias_50</th>\n",
       "    </tr>\n",
       "  </thead>\n",
       "  <tbody>\n",
       "    <tr>\n",
       "      <th>count</th>\n",
       "      <td>49</td>\n",
       "      <td>49</td>\n",
       "      <td>49</td>\n",
       "      <td>49</td>\n",
       "      <td>49</td>\n",
       "      <td>49</td>\n",
       "      <td>49</td>\n",
       "      <td>49</td>\n",
       "      <td>49</td>\n",
       "      <td>49</td>\n",
       "      <td>49</td>\n",
       "      <td>49</td>\n",
       "      <td>49</td>\n",
       "    </tr>\n",
       "    <tr>\n",
       "      <th>unique</th>\n",
       "      <td>49</td>\n",
       "      <td>48</td>\n",
       "      <td>48</td>\n",
       "      <td>48</td>\n",
       "      <td>49</td>\n",
       "      <td>49</td>\n",
       "      <td>49</td>\n",
       "      <td>48</td>\n",
       "      <td>48</td>\n",
       "      <td>49</td>\n",
       "      <td>48</td>\n",
       "      <td>49</td>\n",
       "      <td>48</td>\n",
       "    </tr>\n",
       "    <tr>\n",
       "      <th>top</th>\n",
       "      <td>86.052</td>\n",
       "      <td>52.717</td>\n",
       "      <td>40.708</td>\n",
       "      <td>26.051</td>\n",
       "      <td>24.108</td>\n",
       "      <td>15.942</td>\n",
       "      <td>11.325</td>\n",
       "      <td>9.304</td>\n",
       "      <td>6.104</td>\n",
       "      <td>7.903</td>\n",
       "      <td>6.309</td>\n",
       "      <td>2.525</td>\n",
       "      <td>3.175</td>\n",
       "    </tr>\n",
       "    <tr>\n",
       "      <th>freq</th>\n",
       "      <td>1</td>\n",
       "      <td>2</td>\n",
       "      <td>2</td>\n",
       "      <td>2</td>\n",
       "      <td>1</td>\n",
       "      <td>1</td>\n",
       "      <td>1</td>\n",
       "      <td>2</td>\n",
       "      <td>2</td>\n",
       "      <td>1</td>\n",
       "      <td>2</td>\n",
       "      <td>1</td>\n",
       "      <td>2</td>\n",
       "    </tr>\n",
       "  </tbody>\n",
       "</table>\n",
       "</div>"
      ],
      "text/plain": [
       "        Bias_2  Bias_6 Bias_10 Bias_14 Bias_18 Bias_22 Bias_26 Bias_30  \\\n",
       "count       49      49      49      49      49      49      49      49   \n",
       "unique      49      48      48      48      49      49      49      48   \n",
       "top     86.052  52.717  40.708  26.051  24.108  15.942  11.325   9.304   \n",
       "freq         1       2       2       2       1       1       1       2   \n",
       "\n",
       "       Bias_34 Bias_38 Bias_42 Bias_46 Bias_50  \n",
       "count       49      49      49      49      49  \n",
       "unique      48      49      48      49      48  \n",
       "top      6.104   7.903   6.309   2.525   3.175  \n",
       "freq         2       1       2       1       2  "
      ]
     },
     "execution_count": 87,
     "metadata": {},
     "output_type": "execute_result"
    }
   ],
   "source": [
    "# Make a new dataframe showing the statistics of the tube data\n",
    "df_stats = df.describe()\n",
    "\n",
    "# Make a bias_list containing only columns we care to see.  (We don't need stats on the tube_type or tube_ID, etc.)\n",
    "bias_list = []\n",
    "for i in column_names:\n",
    "    if i.startswith('Bias') == True:\n",
    "        bias_list.append(i)\n",
    "\n",
    "# Display only the columns in the bias_list        \n",
    "df_stats = df_stats[bias_list]\n",
    "\n",
    "# Display the data as object so 'count' isn't a float with a million decimal places\n",
    "# df_stats.astype(object)\n",
    "\n",
    "df_stats\n"
   ]
  },
  {
   "cell_type": "code",
   "execution_count": 80,
   "metadata": {},
   "outputs": [
    {
     "data": {
      "text/plain": [
       "'99.278'"
      ]
     },
     "execution_count": 80,
     "metadata": {},
     "output_type": "execute_result"
    }
   ],
   "source": [
    "# Apply a function to a column\n",
    "df.Bias_2.max()"
   ]
  },
  {
   "cell_type": "code",
   "execution_count": 67,
   "metadata": {},
   "outputs": [
    {
     "ename": "ValueError",
     "evalue": "(\"invalid literal for int() with base 10: '57.956'\", 'occurred at index Bias_2')",
     "output_type": "error",
     "traceback": [
      "\u001b[0;31m---------------------------------------------------------------------------\u001b[0m",
      "\u001b[0;31mValueError\u001b[0m                                Traceback (most recent call last)",
      "\u001b[0;32m<ipython-input-67-1198d53f4c23>\u001b[0m in \u001b[0;36m<module>\u001b[0;34m()\u001b[0m\n\u001b[1;32m      1\u001b[0m \u001b[0;31m# Applymap is useful for applying a function to all data\u001b[0m\u001b[0;34m\u001b[0m\u001b[0;34m\u001b[0m\u001b[0m\n\u001b[1;32m      2\u001b[0m \u001b[0;31m# For example, converting all data from floats to ints\u001b[0m\u001b[0;34m\u001b[0m\u001b[0;34m\u001b[0m\u001b[0m\n\u001b[0;32m----> 3\u001b[0;31m \u001b[0mdf\u001b[0m\u001b[0;34m.\u001b[0m\u001b[0mloc\u001b[0m\u001b[0;34m[\u001b[0m\u001b[0;36m2\u001b[0m\u001b[0;34m:\u001b[0m\u001b[0;36m7\u001b[0m\u001b[0;34m,\u001b[0m \u001b[0;34m'Bias_2'\u001b[0m\u001b[0;34m:\u001b[0m \u001b[0;34m'Bias_50'\u001b[0m\u001b[0;34m]\u001b[0m\u001b[0;34m.\u001b[0m\u001b[0mapplymap\u001b[0m\u001b[0;34m(\u001b[0m\u001b[0mint\u001b[0m\u001b[0;34m)\u001b[0m\u001b[0;34m\u001b[0m\u001b[0m\n\u001b[0m",
      "\u001b[0;32m/Users/rrmc/miniconda3/lib/python3.6/site-packages/pandas/core/frame.py\u001b[0m in \u001b[0;36mapplymap\u001b[0;34m(self, func)\u001b[0m\n\u001b[1;32m   4339\u001b[0m             \u001b[0;32mreturn\u001b[0m \u001b[0mlib\u001b[0m\u001b[0;34m.\u001b[0m\u001b[0mmap_infer\u001b[0m\u001b[0;34m(\u001b[0m\u001b[0mx\u001b[0m\u001b[0;34m.\u001b[0m\u001b[0masobject\u001b[0m\u001b[0;34m,\u001b[0m \u001b[0mfunc\u001b[0m\u001b[0;34m)\u001b[0m\u001b[0;34m\u001b[0m\u001b[0m\n\u001b[1;32m   4340\u001b[0m \u001b[0;34m\u001b[0m\u001b[0m\n\u001b[0;32m-> 4341\u001b[0;31m         \u001b[0;32mreturn\u001b[0m \u001b[0mself\u001b[0m\u001b[0;34m.\u001b[0m\u001b[0mapply\u001b[0m\u001b[0;34m(\u001b[0m\u001b[0minfer\u001b[0m\u001b[0;34m)\u001b[0m\u001b[0;34m\u001b[0m\u001b[0m\n\u001b[0m\u001b[1;32m   4342\u001b[0m \u001b[0;34m\u001b[0m\u001b[0m\n\u001b[1;32m   4343\u001b[0m     \u001b[0;31m# ----------------------------------------------------------------------\u001b[0m\u001b[0;34m\u001b[0m\u001b[0;34m\u001b[0m\u001b[0m\n",
      "\u001b[0;32m/Users/rrmc/miniconda3/lib/python3.6/site-packages/pandas/core/frame.py\u001b[0m in \u001b[0;36mapply\u001b[0;34m(self, func, axis, broadcast, raw, reduce, args, **kwds)\u001b[0m\n\u001b[1;32m   4150\u001b[0m                     \u001b[0;32mif\u001b[0m \u001b[0mreduce\u001b[0m \u001b[0;32mis\u001b[0m \u001b[0;32mNone\u001b[0m\u001b[0;34m:\u001b[0m\u001b[0;34m\u001b[0m\u001b[0m\n\u001b[1;32m   4151\u001b[0m                         \u001b[0mreduce\u001b[0m \u001b[0;34m=\u001b[0m \u001b[0;32mTrue\u001b[0m\u001b[0;34m\u001b[0m\u001b[0m\n\u001b[0;32m-> 4152\u001b[0;31m                     \u001b[0;32mreturn\u001b[0m \u001b[0mself\u001b[0m\u001b[0;34m.\u001b[0m\u001b[0m_apply_standard\u001b[0m\u001b[0;34m(\u001b[0m\u001b[0mf\u001b[0m\u001b[0;34m,\u001b[0m \u001b[0maxis\u001b[0m\u001b[0;34m,\u001b[0m \u001b[0mreduce\u001b[0m\u001b[0;34m=\u001b[0m\u001b[0mreduce\u001b[0m\u001b[0;34m)\u001b[0m\u001b[0;34m\u001b[0m\u001b[0m\n\u001b[0m\u001b[1;32m   4153\u001b[0m             \u001b[0;32melse\u001b[0m\u001b[0;34m:\u001b[0m\u001b[0;34m\u001b[0m\u001b[0m\n\u001b[1;32m   4154\u001b[0m                 \u001b[0;32mreturn\u001b[0m \u001b[0mself\u001b[0m\u001b[0;34m.\u001b[0m\u001b[0m_apply_broadcast\u001b[0m\u001b[0;34m(\u001b[0m\u001b[0mf\u001b[0m\u001b[0;34m,\u001b[0m \u001b[0maxis\u001b[0m\u001b[0;34m)\u001b[0m\u001b[0;34m\u001b[0m\u001b[0m\n",
      "\u001b[0;32m/Users/rrmc/miniconda3/lib/python3.6/site-packages/pandas/core/frame.py\u001b[0m in \u001b[0;36m_apply_standard\u001b[0;34m(self, func, axis, ignore_failures, reduce)\u001b[0m\n\u001b[1;32m   4246\u001b[0m             \u001b[0;32mtry\u001b[0m\u001b[0;34m:\u001b[0m\u001b[0;34m\u001b[0m\u001b[0m\n\u001b[1;32m   4247\u001b[0m                 \u001b[0;32mfor\u001b[0m \u001b[0mi\u001b[0m\u001b[0;34m,\u001b[0m \u001b[0mv\u001b[0m \u001b[0;32min\u001b[0m \u001b[0menumerate\u001b[0m\u001b[0;34m(\u001b[0m\u001b[0mseries_gen\u001b[0m\u001b[0;34m)\u001b[0m\u001b[0;34m:\u001b[0m\u001b[0;34m\u001b[0m\u001b[0m\n\u001b[0;32m-> 4248\u001b[0;31m                     \u001b[0mresults\u001b[0m\u001b[0;34m[\u001b[0m\u001b[0mi\u001b[0m\u001b[0;34m]\u001b[0m \u001b[0;34m=\u001b[0m \u001b[0mfunc\u001b[0m\u001b[0;34m(\u001b[0m\u001b[0mv\u001b[0m\u001b[0;34m)\u001b[0m\u001b[0;34m\u001b[0m\u001b[0m\n\u001b[0m\u001b[1;32m   4249\u001b[0m                     \u001b[0mkeys\u001b[0m\u001b[0;34m.\u001b[0m\u001b[0mappend\u001b[0m\u001b[0;34m(\u001b[0m\u001b[0mv\u001b[0m\u001b[0;34m.\u001b[0m\u001b[0mname\u001b[0m\u001b[0;34m)\u001b[0m\u001b[0;34m\u001b[0m\u001b[0m\n\u001b[1;32m   4250\u001b[0m             \u001b[0;32mexcept\u001b[0m \u001b[0mException\u001b[0m \u001b[0;32mas\u001b[0m \u001b[0me\u001b[0m\u001b[0;34m:\u001b[0m\u001b[0;34m\u001b[0m\u001b[0m\n",
      "\u001b[0;32m/Users/rrmc/miniconda3/lib/python3.6/site-packages/pandas/core/frame.py\u001b[0m in \u001b[0;36minfer\u001b[0;34m(x)\u001b[0m\n\u001b[1;32m   4337\u001b[0m         \u001b[0;31m# if we have a dtype == 'M8[ns]', provide boxed values\u001b[0m\u001b[0;34m\u001b[0m\u001b[0;34m\u001b[0m\u001b[0m\n\u001b[1;32m   4338\u001b[0m         \u001b[0;32mdef\u001b[0m \u001b[0minfer\u001b[0m\u001b[0;34m(\u001b[0m\u001b[0mx\u001b[0m\u001b[0;34m)\u001b[0m\u001b[0;34m:\u001b[0m\u001b[0;34m\u001b[0m\u001b[0m\n\u001b[0;32m-> 4339\u001b[0;31m             \u001b[0;32mreturn\u001b[0m \u001b[0mlib\u001b[0m\u001b[0;34m.\u001b[0m\u001b[0mmap_infer\u001b[0m\u001b[0;34m(\u001b[0m\u001b[0mx\u001b[0m\u001b[0;34m.\u001b[0m\u001b[0masobject\u001b[0m\u001b[0;34m,\u001b[0m \u001b[0mfunc\u001b[0m\u001b[0;34m)\u001b[0m\u001b[0;34m\u001b[0m\u001b[0m\n\u001b[0m\u001b[1;32m   4340\u001b[0m \u001b[0;34m\u001b[0m\u001b[0m\n\u001b[1;32m   4341\u001b[0m         \u001b[0;32mreturn\u001b[0m \u001b[0mself\u001b[0m\u001b[0;34m.\u001b[0m\u001b[0mapply\u001b[0m\u001b[0;34m(\u001b[0m\u001b[0minfer\u001b[0m\u001b[0;34m)\u001b[0m\u001b[0;34m\u001b[0m\u001b[0m\n",
      "\u001b[0;32mpandas/src/inference.pyx\u001b[0m in \u001b[0;36mpandas.lib.map_infer (pandas/lib.c:66124)\u001b[0;34m()\u001b[0m\n",
      "\u001b[0;31mValueError\u001b[0m: (\"invalid literal for int() with base 10: '57.956'\", 'occurred at index Bias_2')"
     ]
    }
   ],
   "source": [
    "# Applymap is useful for applying a function to all data\n",
    "# For example, converting all data from floats to ints\n",
    "df.loc[2:7, 'Bias_2': 'Bias_50'].applymap(int)"
   ]
  },
  {
   "cell_type": "code",
   "execution_count": 49,
   "metadata": {},
   "outputs": [
    {
     "name": "stdout",
     "output_type": "stream",
     "text": [
      "How many matched tubes would you like in the set?8\n"
     ]
    },
    {
     "ename": "KeyError",
     "evalue": "'the label [1] is not in the [index]'",
     "output_type": "error",
     "traceback": [
      "\u001b[0;31m---------------------------------------------------------------------------\u001b[0m",
      "\u001b[0;31mKeyError\u001b[0m                                  Traceback (most recent call last)",
      "\u001b[0;32m/Users/rrmc/miniconda3/lib/python3.6/site-packages/pandas/core/indexing.py\u001b[0m in \u001b[0;36m_has_valid_type\u001b[0;34m(self, key, axis)\u001b[0m\n\u001b[1;32m   1410\u001b[0m                 \u001b[0;32mif\u001b[0m \u001b[0mkey\u001b[0m \u001b[0;32mnot\u001b[0m \u001b[0;32min\u001b[0m \u001b[0max\u001b[0m\u001b[0;34m:\u001b[0m\u001b[0;34m\u001b[0m\u001b[0m\n\u001b[0;32m-> 1411\u001b[0;31m                     \u001b[0merror\u001b[0m\u001b[0;34m(\u001b[0m\u001b[0;34m)\u001b[0m\u001b[0;34m\u001b[0m\u001b[0m\n\u001b[0m\u001b[1;32m   1412\u001b[0m             \u001b[0;32mexcept\u001b[0m \u001b[0mTypeError\u001b[0m \u001b[0;32mas\u001b[0m \u001b[0me\u001b[0m\u001b[0;34m:\u001b[0m\u001b[0;34m\u001b[0m\u001b[0m\n",
      "\u001b[0;32m/Users/rrmc/miniconda3/lib/python3.6/site-packages/pandas/core/indexing.py\u001b[0m in \u001b[0;36merror\u001b[0;34m()\u001b[0m\n\u001b[1;32m   1405\u001b[0m                 raise KeyError(\"the label [%s] is not in the [%s]\" %\n\u001b[0;32m-> 1406\u001b[0;31m                                (key, self.obj._get_axis_name(axis)))\n\u001b[0m\u001b[1;32m   1407\u001b[0m \u001b[0;34m\u001b[0m\u001b[0m\n",
      "\u001b[0;31mKeyError\u001b[0m: 'the label [1] is not in the [index]'",
      "\nDuring handling of the above exception, another exception occurred:\n",
      "\u001b[0;31mKeyError\u001b[0m                                  Traceback (most recent call last)",
      "\u001b[0;32m<ipython-input-49-da54cc859552>\u001b[0m in \u001b[0;36m<module>\u001b[0;34m()\u001b[0m\n\u001b[1;32m     51\u001b[0m     \u001b[0mprint\u001b[0m\u001b[0;34m(\u001b[0m\u001b[0mscore_df_sorted\u001b[0m\u001b[0;34m)\u001b[0m\u001b[0;34m\u001b[0m\u001b[0m\n\u001b[1;32m     52\u001b[0m \u001b[0;34m\u001b[0m\u001b[0m\n\u001b[0;32m---> 53\u001b[0;31m \u001b[0mfind_best_matched_set\u001b[0m\u001b[0;34m(\u001b[0m\u001b[0mdf\u001b[0m\u001b[0;34m)\u001b[0m\u001b[0;34m\u001b[0m\u001b[0m\n\u001b[0m",
      "\u001b[0;32m<ipython-input-49-da54cc859552>\u001b[0m in \u001b[0;36mfind_best_matched_set\u001b[0;34m(tubes_df)\u001b[0m\n\u001b[1;32m     21\u001b[0m     \u001b[0;32mfor\u001b[0m \u001b[0mtube\u001b[0m \u001b[0;32min\u001b[0m \u001b[0mtube_list\u001b[0m\u001b[0;34m:\u001b[0m\u001b[0;34m\u001b[0m\u001b[0m\n\u001b[1;32m     22\u001b[0m         \u001b[0mtemp_df\u001b[0m \u001b[0;34m=\u001b[0m \u001b[0mtubes_df\u001b[0m\u001b[0;34m.\u001b[0m\u001b[0mcopy\u001b[0m\u001b[0;34m(\u001b[0m\u001b[0;34m)\u001b[0m\u001b[0;34m\u001b[0m\u001b[0m\n\u001b[0;32m---> 23\u001b[0;31m         \u001b[0mtube_to_match\u001b[0m \u001b[0;34m=\u001b[0m \u001b[0mtemp_df\u001b[0m\u001b[0;34m.\u001b[0m\u001b[0mloc\u001b[0m\u001b[0;34m[\u001b[0m\u001b[0mstr\u001b[0m\u001b[0;34m(\u001b[0m\u001b[0mstr\u001b[0m\u001b[0;34m(\u001b[0m\u001b[0mtube\u001b[0m\u001b[0;34m)\u001b[0m\u001b[0;34m)\u001b[0m\u001b[0;34m]\u001b[0m\u001b[0;34m\u001b[0m\u001b[0m\n\u001b[0m\u001b[1;32m     24\u001b[0m         \u001b[0mbias_list\u001b[0m \u001b[0;34m=\u001b[0m \u001b[0mlist\u001b[0m\u001b[0;34m(\u001b[0m\u001b[0mtemp_df\u001b[0m\u001b[0;34m)\u001b[0m\u001b[0;34m[\u001b[0m\u001b[0;36m3\u001b[0m\u001b[0;34m:\u001b[0m\u001b[0;34m]\u001b[0m  \u001b[0;31m# The list of bias voltage columns;  i.e. -50, -46, -42, -38, -etc.\u001b[0m\u001b[0;34m\u001b[0m\u001b[0m\n\u001b[1;32m     25\u001b[0m         \u001b[0mbias_diff_list\u001b[0m \u001b[0;34m=\u001b[0m \u001b[0;34m[\u001b[0m\u001b[0;34m]\u001b[0m            \u001b[0;31m# The list of new _diff^2 columns, to hold the difference values\u001b[0m\u001b[0;34m\u001b[0m\u001b[0m\n",
      "\u001b[0;32m/Users/rrmc/miniconda3/lib/python3.6/site-packages/pandas/core/indexing.py\u001b[0m in \u001b[0;36m__getitem__\u001b[0;34m(self, key)\u001b[0m\n\u001b[1;32m   1310\u001b[0m             \u001b[0;32mreturn\u001b[0m \u001b[0mself\u001b[0m\u001b[0;34m.\u001b[0m\u001b[0m_getitem_tuple\u001b[0m\u001b[0;34m(\u001b[0m\u001b[0mkey\u001b[0m\u001b[0;34m)\u001b[0m\u001b[0;34m\u001b[0m\u001b[0m\n\u001b[1;32m   1311\u001b[0m         \u001b[0;32melse\u001b[0m\u001b[0;34m:\u001b[0m\u001b[0;34m\u001b[0m\u001b[0m\n\u001b[0;32m-> 1312\u001b[0;31m             \u001b[0;32mreturn\u001b[0m \u001b[0mself\u001b[0m\u001b[0;34m.\u001b[0m\u001b[0m_getitem_axis\u001b[0m\u001b[0;34m(\u001b[0m\u001b[0mkey\u001b[0m\u001b[0;34m,\u001b[0m \u001b[0maxis\u001b[0m\u001b[0;34m=\u001b[0m\u001b[0;36m0\u001b[0m\u001b[0;34m)\u001b[0m\u001b[0;34m\u001b[0m\u001b[0m\n\u001b[0m\u001b[1;32m   1313\u001b[0m \u001b[0;34m\u001b[0m\u001b[0m\n\u001b[1;32m   1314\u001b[0m     \u001b[0;32mdef\u001b[0m \u001b[0m_getitem_axis\u001b[0m\u001b[0;34m(\u001b[0m\u001b[0mself\u001b[0m\u001b[0;34m,\u001b[0m \u001b[0mkey\u001b[0m\u001b[0;34m,\u001b[0m \u001b[0maxis\u001b[0m\u001b[0;34m=\u001b[0m\u001b[0;36m0\u001b[0m\u001b[0;34m)\u001b[0m\u001b[0;34m:\u001b[0m\u001b[0;34m\u001b[0m\u001b[0m\n",
      "\u001b[0;32m/Users/rrmc/miniconda3/lib/python3.6/site-packages/pandas/core/indexing.py\u001b[0m in \u001b[0;36m_getitem_axis\u001b[0;34m(self, key, axis)\u001b[0m\n\u001b[1;32m   1480\u001b[0m \u001b[0;34m\u001b[0m\u001b[0m\n\u001b[1;32m   1481\u001b[0m         \u001b[0;31m# fall thru to straight lookup\u001b[0m\u001b[0;34m\u001b[0m\u001b[0;34m\u001b[0m\u001b[0m\n\u001b[0;32m-> 1482\u001b[0;31m         \u001b[0mself\u001b[0m\u001b[0;34m.\u001b[0m\u001b[0m_has_valid_type\u001b[0m\u001b[0;34m(\u001b[0m\u001b[0mkey\u001b[0m\u001b[0;34m,\u001b[0m \u001b[0maxis\u001b[0m\u001b[0;34m)\u001b[0m\u001b[0;34m\u001b[0m\u001b[0m\n\u001b[0m\u001b[1;32m   1483\u001b[0m         \u001b[0;32mreturn\u001b[0m \u001b[0mself\u001b[0m\u001b[0;34m.\u001b[0m\u001b[0m_get_label\u001b[0m\u001b[0;34m(\u001b[0m\u001b[0mkey\u001b[0m\u001b[0;34m,\u001b[0m \u001b[0maxis\u001b[0m\u001b[0;34m=\u001b[0m\u001b[0maxis\u001b[0m\u001b[0;34m)\u001b[0m\u001b[0;34m\u001b[0m\u001b[0m\n\u001b[1;32m   1484\u001b[0m \u001b[0;34m\u001b[0m\u001b[0m\n",
      "\u001b[0;32m/Users/rrmc/miniconda3/lib/python3.6/site-packages/pandas/core/indexing.py\u001b[0m in \u001b[0;36m_has_valid_type\u001b[0;34m(self, key, axis)\u001b[0m\n\u001b[1;32m   1417\u001b[0m                 \u001b[0;32mraise\u001b[0m\u001b[0;34m\u001b[0m\u001b[0m\n\u001b[1;32m   1418\u001b[0m             \u001b[0;32mexcept\u001b[0m\u001b[0;34m:\u001b[0m\u001b[0;34m\u001b[0m\u001b[0m\n\u001b[0;32m-> 1419\u001b[0;31m                 \u001b[0merror\u001b[0m\u001b[0;34m(\u001b[0m\u001b[0;34m)\u001b[0m\u001b[0;34m\u001b[0m\u001b[0m\n\u001b[0m\u001b[1;32m   1420\u001b[0m \u001b[0;34m\u001b[0m\u001b[0m\n\u001b[1;32m   1421\u001b[0m         \u001b[0;32mreturn\u001b[0m \u001b[0;32mTrue\u001b[0m\u001b[0;34m\u001b[0m\u001b[0m\n",
      "\u001b[0;32m/Users/rrmc/miniconda3/lib/python3.6/site-packages/pandas/core/indexing.py\u001b[0m in \u001b[0;36merror\u001b[0;34m()\u001b[0m\n\u001b[1;32m   1404\u001b[0m                                     \"key\")\n\u001b[1;32m   1405\u001b[0m                 raise KeyError(\"the label [%s] is not in the [%s]\" %\n\u001b[0;32m-> 1406\u001b[0;31m                                (key, self.obj._get_axis_name(axis)))\n\u001b[0m\u001b[1;32m   1407\u001b[0m \u001b[0;34m\u001b[0m\u001b[0m\n\u001b[1;32m   1408\u001b[0m             \u001b[0;32mtry\u001b[0m\u001b[0;34m:\u001b[0m\u001b[0;34m\u001b[0m\u001b[0m\n",
      "\u001b[0;31mKeyError\u001b[0m: 'the label [1] is not in the [index]'"
     ]
    }
   ],
   "source": [
    "# TODO:  The match-finding algorithms should remove the matched sets from the master dataframe as it computes subsequent\n",
    "# TODO:  matched sets.  Otherwise, subsequent sets may contain previously paired-tubes and will be invalid.\n",
    "\n",
    "\n",
    "def find_best_matched_set(tubes_df):\n",
    "\n",
    "    # Build a list of all the tubes in the dataframe.\n",
    "    tube_list = tubes_df['tube_ID'].tolist()\n",
    "\n",
    "    # Get number of tubes to match\n",
    "    n_matches = input(\"How many matched tubes would you like in the set?\")\n",
    "\n",
    "    # Create a list to store the master match list sets\n",
    "    master_match_list = []\n",
    "\n",
    "    # Create a dataframe to store the scores of the tube sets by primary tube_ID\n",
    "    score_df = pd.DataFrame()\n",
    "\n",
    "\n",
    "\n",
    "    for tube in tube_list:\n",
    "        temp_df = tubes_df.copy()\n",
    "        tube_to_match = temp_df.loc[str(str(tube))]\n",
    "        bias_list = list(temp_df)[3:]  # The list of bias voltage columns;  i.e. -50, -46, -42, -38, -etc.\n",
    "        bias_diff_list = []            # The list of new _diff^2 columns, to hold the difference values\n",
    "\n",
    "        # For every bias voltage column in the DataFrame, add a new column with the suffix '_diff^2' after the name.\n",
    "        for i in bias_list:\n",
    "            newcolumn = str(i + '_diff^2')\n",
    "            temp_df[newcolumn] = temp_df[i]\n",
    "            bias_diff_list.append(newcolumn)\n",
    "\n",
    "        # Compute the square of the difference of each current measurement for every tube, compared to the tube_to_match\n",
    "        # Put all the data into the appropriate _diff^2 column.\n",
    "        for i in range(len(bias_diff_list)):\n",
    "            temp_df[bias_diff_list[i]] = temp_df[bias_diff_list[i]].apply(lambda x: abs(x - tube_to_match[i+3])**2)\n",
    "\n",
    "        # Add a column called squares_sum and compute the sum of all the diff squares on each row\n",
    "        temp_df['squares_sum'] = temp_df[bias_diff_list].sum(axis=1)\n",
    "\n",
    "        # Sort ascending by squares_sum.\n",
    "        temp_df_sorted = temp_df.sort_values('squares_sum')\n",
    "\n",
    "        # Calculate the sum of all the diff squares to be used as an overall score\n",
    "        tube_set_score = temp_df_sorted['squares_sum'].iloc[0:(int(n_matches)+1)].sum()\n",
    "        # print(\"Total least-squares score for the matched tube set:\", tube_set_score)\n",
    "        score_df.set_value(tube, 'tube_id', tube)\n",
    "        score_df.set_value(tube, 'score', tube_set_score)\n",
    "        score_df_sorted = score_df.sort_values('score')\n",
    "    print(\"\\nLeast-Squares Matching Score (lower is better):\")\n",
    "    print(score_df_sorted)\n",
    "\n",
    "find_best_matched_set(df)"
   ]
  },
  {
   "cell_type": "code",
   "execution_count": 2,
   "metadata": {},
   "outputs": [
    {
     "data": {
      "application/json": {
       "cell": {
        "!": "OSMagics",
        "HTML": "Other",
        "SVG": "Other",
        "bash": "Other",
        "capture": "ExecutionMagics",
        "debug": "ExecutionMagics",
        "file": "Other",
        "html": "DisplayMagics",
        "javascript": "DisplayMagics",
        "js": "DisplayMagics",
        "latex": "DisplayMagics",
        "perl": "Other",
        "prun": "ExecutionMagics",
        "pypy": "Other",
        "python": "Other",
        "python2": "Other",
        "python3": "Other",
        "ruby": "Other",
        "script": "ScriptMagics",
        "sh": "Other",
        "svg": "DisplayMagics",
        "sx": "OSMagics",
        "system": "OSMagics",
        "time": "ExecutionMagics",
        "timeit": "ExecutionMagics",
        "writefile": "OSMagics"
       },
       "line": {
        "alias": "OSMagics",
        "alias_magic": "BasicMagics",
        "autocall": "AutoMagics",
        "automagic": "AutoMagics",
        "autosave": "KernelMagics",
        "bookmark": "OSMagics",
        "cat": "Other",
        "cd": "OSMagics",
        "clear": "KernelMagics",
        "colors": "BasicMagics",
        "config": "ConfigMagics",
        "connect_info": "KernelMagics",
        "cp": "Other",
        "debug": "ExecutionMagics",
        "dhist": "OSMagics",
        "dirs": "OSMagics",
        "doctest_mode": "BasicMagics",
        "ed": "Other",
        "edit": "KernelMagics",
        "env": "OSMagics",
        "gui": "BasicMagics",
        "hist": "Other",
        "history": "HistoryMagics",
        "killbgscripts": "ScriptMagics",
        "ldir": "Other",
        "less": "KernelMagics",
        "lf": "Other",
        "lk": "Other",
        "ll": "Other",
        "load": "CodeMagics",
        "load_ext": "ExtensionMagics",
        "loadpy": "CodeMagics",
        "logoff": "LoggingMagics",
        "logon": "LoggingMagics",
        "logstart": "LoggingMagics",
        "logstate": "LoggingMagics",
        "logstop": "LoggingMagics",
        "ls": "Other",
        "lsmagic": "BasicMagics",
        "lx": "Other",
        "macro": "ExecutionMagics",
        "magic": "BasicMagics",
        "man": "KernelMagics",
        "matplotlib": "PylabMagics",
        "mkdir": "Other",
        "more": "KernelMagics",
        "mv": "Other",
        "notebook": "BasicMagics",
        "page": "BasicMagics",
        "pastebin": "CodeMagics",
        "pdb": "ExecutionMagics",
        "pdef": "NamespaceMagics",
        "pdoc": "NamespaceMagics",
        "pfile": "NamespaceMagics",
        "pinfo": "NamespaceMagics",
        "pinfo2": "NamespaceMagics",
        "popd": "OSMagics",
        "pprint": "BasicMagics",
        "precision": "BasicMagics",
        "profile": "BasicMagics",
        "prun": "ExecutionMagics",
        "psearch": "NamespaceMagics",
        "psource": "NamespaceMagics",
        "pushd": "OSMagics",
        "pwd": "OSMagics",
        "pycat": "OSMagics",
        "pylab": "PylabMagics",
        "qtconsole": "KernelMagics",
        "quickref": "BasicMagics",
        "recall": "HistoryMagics",
        "rehashx": "OSMagics",
        "reload_ext": "ExtensionMagics",
        "rep": "Other",
        "rerun": "HistoryMagics",
        "reset": "NamespaceMagics",
        "reset_selective": "NamespaceMagics",
        "rm": "Other",
        "rmdir": "Other",
        "run": "ExecutionMagics",
        "save": "CodeMagics",
        "sc": "OSMagics",
        "set_env": "OSMagics",
        "store": "StoreMagics",
        "sx": "OSMagics",
        "system": "OSMagics",
        "tb": "ExecutionMagics",
        "time": "ExecutionMagics",
        "timeit": "ExecutionMagics",
        "unalias": "OSMagics",
        "unload_ext": "ExtensionMagics",
        "who": "NamespaceMagics",
        "who_ls": "NamespaceMagics",
        "whos": "NamespaceMagics",
        "xdel": "NamespaceMagics",
        "xmode": "BasicMagics"
       }
      },
      "text/plain": [
       "Available line magics:\n",
       "%alias  %alias_magic  %autocall  %automagic  %autosave  %bookmark  %cat  %cd  %clear  %colors  %config  %connect_info  %cp  %debug  %dhist  %dirs  %doctest_mode  %ed  %edit  %env  %gui  %hist  %history  %killbgscripts  %ldir  %less  %lf  %lk  %ll  %load  %load_ext  %loadpy  %logoff  %logon  %logstart  %logstate  %logstop  %ls  %lsmagic  %lx  %macro  %magic  %man  %matplotlib  %mkdir  %more  %mv  %notebook  %page  %pastebin  %pdb  %pdef  %pdoc  %pfile  %pinfo  %pinfo2  %popd  %pprint  %precision  %profile  %prun  %psearch  %psource  %pushd  %pwd  %pycat  %pylab  %qtconsole  %quickref  %recall  %rehashx  %reload_ext  %rep  %rerun  %reset  %reset_selective  %rm  %rmdir  %run  %save  %sc  %set_env  %store  %sx  %system  %tb  %time  %timeit  %unalias  %unload_ext  %who  %who_ls  %whos  %xdel  %xmode\n",
       "\n",
       "Available cell magics:\n",
       "%%!  %%HTML  %%SVG  %%bash  %%capture  %%debug  %%file  %%html  %%javascript  %%js  %%latex  %%perl  %%prun  %%pypy  %%python  %%python2  %%python3  %%ruby  %%script  %%sh  %%svg  %%sx  %%system  %%time  %%timeit  %%writefile\n",
       "\n",
       "Automagic is ON, % prefix IS NOT needed for line magics."
      ]
     },
     "execution_count": 2,
     "metadata": {},
     "output_type": "execute_result"
    }
   ],
   "source": [
    "# List all available magics\n",
    "% lsmagic"
   ]
  },
  {
   "cell_type": "code",
   "execution_count": 44,
   "metadata": {},
   "outputs": [
    {
     "data": {
      "text/plain": [
       "'/Users/rrmc/miniconda3/bin:/Users/rrmc/miniconda3/bin:/Library/Frameworks/Python.framework/Versions/3.6/bin:/usr/local/bin:/usr/bin:/bin:/usr/sbin:/sbin'"
      ]
     },
     "execution_count": 44,
     "metadata": {},
     "output_type": "execute_result"
    }
   ],
   "source": [
    "# Display environmental variables\n",
    "env_variables = %env\n",
    "current_path = env_variables.get('PATH')\n",
    "current_path"
   ]
  },
  {
   "cell_type": "code",
   "execution_count": 6,
   "metadata": {},
   "outputs": [
    {
     "data": {
      "text/plain": [
       "dict_keys(['TERM_PROGRAM', 'SHELL', 'TERM', 'TMPDIR', 'Apple_PubSub_Socket_Render', 'TERM_PROGRAM_VERSION', 'TERM_SESSION_ID', 'USER', 'SSH_AUTH_SOCK', '__CF_USER_TEXT_ENCODING', 'PATH', 'PWD', 'LANG', 'XPC_FLAGS', 'XPC_SERVICE_NAME', 'SHLVL', 'HOME', 'LOGNAME', 'SECURITYSESSIONID', '_', 'OLDPWD', 'JPY_PARENT_PID', 'CLICOLOR', 'PAGER', 'GIT_PAGER', 'MPLBACKEND'])"
      ]
     },
     "execution_count": 6,
     "metadata": {},
     "output_type": "execute_result"
    }
   ],
   "source": [
    "mydict = % env\n",
    "mydict.keys()"
   ]
  },
  {
   "cell_type": "code",
   "execution_count": 7,
   "metadata": {},
   "outputs": [
    {
     "data": {
      "text/plain": [
       "{'Apple_PubSub_Socket_Render': '/private/tmp/com.apple.launchd.KpLw2sBcKE/Render',\n",
       " 'CLICOLOR': '1',\n",
       " 'GIT_PAGER': 'cat',\n",
       " 'HOME': '/Users/rrmc',\n",
       " 'JPY_PARENT_PID': '3478',\n",
       " 'LANG': 'en_US.UTF-8',\n",
       " 'LOGNAME': 'rrmc',\n",
       " 'MPLBACKEND': 'module://ipykernel.pylab.backend_inline',\n",
       " 'OLDPWD': '/Users/rrmc/github_rrMacKinnon',\n",
       " 'PAGER': 'cat',\n",
       " 'PATH': '/Users/rrmc/miniconda3/bin:/Users/rrmc/miniconda3/bin:/Library/Frameworks/Python.framework/Versions/3.6/bin:/usr/local/bin:/usr/bin:/bin:/usr/sbin:/sbin',\n",
       " 'PWD': '/Users/rrmc/github_rrMacKinnon/Electrona_uTracer',\n",
       " 'SECURITYSESSIONID': '186a5',\n",
       " 'SHELL': '/bin/bash',\n",
       " 'SHLVL': '1',\n",
       " 'SSH_AUTH_SOCK': '/private/tmp/com.apple.launchd.ipXAnwjJfW/Listeners',\n",
       " 'TERM': 'xterm-color',\n",
       " 'TERM_PROGRAM': 'Apple_Terminal',\n",
       " 'TERM_PROGRAM_VERSION': '388.1',\n",
       " 'TERM_SESSION_ID': '4ED1B075-FF11-484E-8DC5-80541C92FF99',\n",
       " 'TMPDIR': '/var/folders/z8/64wcqsyn253df_sw4kb6j3s00000gn/T/',\n",
       " 'USER': 'rrmc',\n",
       " 'XPC_FLAGS': '0x0',\n",
       " 'XPC_SERVICE_NAME': '0',\n",
       " '_': '/Users/rrmc/miniconda3/bin/jupyter',\n",
       " '__CF_USER_TEXT_ENCODING': '0x1F5:0x0:0x0'}"
      ]
     },
     "execution_count": 7,
     "metadata": {},
     "output_type": "execute_result"
    }
   ],
   "source": [
    "% env"
   ]
  },
  {
   "cell_type": "code",
   "execution_count": 12,
   "metadata": {},
   "outputs": [
    {
     "name": "stdout",
     "output_type": "stream",
     "text": [
      "1000000 loops, best of 3: 346 ns per loop\n"
     ]
    },
    {
     "data": {
      "text/plain": [
       "9999"
      ]
     },
     "execution_count": 12,
     "metadata": {},
     "output_type": "execute_result"
    }
   ],
   "source": [
    "# % time x = range(10000)\n",
    "% timeit x = range(10000)\n",
    "max(x)"
   ]
  },
  {
   "cell_type": "code",
   "execution_count": null,
   "metadata": {
    "collapsed": true
   },
   "outputs": [],
   "source": []
  }
 ],
 "metadata": {
  "kernelspec": {
   "display_name": "Python 3",
   "language": "python",
   "name": "python3"
  },
  "language_info": {
   "codemirror_mode": {
    "name": "ipython",
    "version": 3
   },
   "file_extension": ".py",
   "mimetype": "text/x-python",
   "name": "python",
   "nbconvert_exporter": "python",
   "pygments_lexer": "ipython3",
   "version": "3.6.0"
  }
 },
 "nbformat": 4,
 "nbformat_minor": 2
}
