{
 "cells": [
  {
   "cell_type": "markdown",
   "metadata": {},
   "source": [
    "<script>\n",
    "  jQuery(document).ready(function($) {\n",
    "\n",
    "  $(window).load(function(){\n",
    "    $('#preloader').fadeOut('slow',function(){$(this).remove();});\n",
    "  });\n",
    "\n",
    "  });\n",
    "</script>\n",
    "\n",
    "<style type=\"text/css\">\n",
    "  div#preloader { position: fixed;\n",
    "      left: 0;\n",
    "      top: 0;\n",
    "      z-index: 999;\n",
    "      width: 100%;\n",
    "      height: 100%;\n",
    "      overflow: visible;\n",
    "      background: #fff url('http://preloaders.net/preloaders/720/Moving%20line.gif') no-repeat center center;\n",
    "  }\n",
    "\n",
    "</style>\n",
    "\n",
    "<div id=\"preloader\"></div>"
   ]
  },
  {
   "cell_type": "markdown",
   "metadata": {},
   "source": [
    "# Importing the data and building the dataframe\n",
    "\n",
    "This notebook assumes that the Electrona_uTracer_Importer_toCSV.py was  executed on a folder containing uTracer files, and the resulting data was saved as \"master_tube_list.csv\" in the script's root directory."
   ]
  },
  {
   "cell_type": "code",
   "execution_count": 207,
   "metadata": {
    "scrolled": true
   },
   "outputs": [],
   "source": [
    "import pandas as pd\n",
    "import matplotlib.pyplot as plt\n",
    "import numpy as np\n",
    "import seaborn as sns\n",
    "sns.set(color_codes=True)\n",
    "\n",
    "# Read CSV file and build dataframe\n",
    "df = pd.read_csv('/Users/rrmc/PycharmProjects/Electrona_uTracer/master_tube_list.csv')\n",
    "\n",
    "# Make a list of all the columns\n",
    "cols = df.columns.tolist()\n",
    "\n",
    "# Make two new lists, separating the voltage values from the other strings.\n",
    "# Also, convert the voltages to absolute value ints, so they can be numerically sorted \n",
    "voltages = []\n",
    "other_stuff = []\n",
    "for i in cols:\n",
    "    if i.startswith('-'):\n",
    "        i = int(i[1:])\n",
    "        voltages.append(i)\n",
    "    else:\n",
    "        other_stuff.append(i)\n",
    "\n",
    "# Sort the voltages numerically\n",
    "voltages.sort()\n",
    "\n",
    "# Make a new list to hold the voltages and the other_stuff, properly ordered.\n",
    "cols_sorted = []\n",
    "\n",
    "# Add the '-' sign back in to all the voltages and convert to strings, now that they're sorted.\n",
    "voltages_sorted = []\n",
    "for i in voltages:\n",
    "    i = '-' + str(i)\n",
    "    voltages_sorted.append(i)\n",
    "    \n",
    "# Re-order the other_stuff to the desired order    \n",
    "other_stuff[0], other_stuff[1], other_stuff[2] = other_stuff[1], other_stuff[2], other_stuff[0]    \n",
    "\n",
    "# Stitch the two separte lists together to form the cols_sorted list.\n",
    "cols_sorted = other_stuff + voltages_sorted  \n",
    "\n",
    "# Redefine df with the sorted column list\n",
    "df = df[cols_sorted]"
   ]
  },
  {
   "cell_type": "markdown",
   "metadata": {},
   "source": [
    "# Basic Functions\n",
    "As soon as the CSV file has been read and the dataframe constructed, a series of basic functions should be executed to display interesting information about the data."
   ]
  },
  {
   "cell_type": "markdown",
   "metadata": {},
   "source": [
    "### Sample tube data"
   ]
  },
  {
   "cell_type": "code",
   "execution_count": 208,
   "metadata": {
    "scrolled": true
   },
   "outputs": [
    {
     "data": {
      "text/html": [
       "<div>\n",
       "<table border=\"1\" class=\"dataframe\">\n",
       "  <thead>\n",
       "    <tr style=\"text-align: right;\">\n",
       "      <th></th>\n",
       "      <th>tube_ID</th>\n",
       "      <th>tube_type</th>\n",
       "      <th>anode_voltage</th>\n",
       "      <th>-2</th>\n",
       "      <th>-6</th>\n",
       "      <th>-10</th>\n",
       "      <th>-14</th>\n",
       "      <th>-18</th>\n",
       "      <th>-22</th>\n",
       "      <th>-26</th>\n",
       "      <th>-30</th>\n",
       "      <th>-34</th>\n",
       "      <th>-38</th>\n",
       "      <th>-42</th>\n",
       "      <th>-46</th>\n",
       "      <th>-50</th>\n",
       "    </tr>\n",
       "  </thead>\n",
       "  <tbody>\n",
       "    <tr>\n",
       "      <th>0</th>\n",
       "      <td>1</td>\n",
       "      <td>5749</td>\n",
       "      <td>325</td>\n",
       "      <td>99.278</td>\n",
       "      <td>65.383</td>\n",
       "      <td>44.717</td>\n",
       "      <td>34.082</td>\n",
       "      <td>26.669</td>\n",
       "      <td>20.931</td>\n",
       "      <td>16.492</td>\n",
       "      <td>12.992</td>\n",
       "      <td>10.291</td>\n",
       "      <td>8.230</td>\n",
       "      <td>6.669</td>\n",
       "      <td>5.495</td>\n",
       "      <td>4.626</td>\n",
       "    </tr>\n",
       "    <tr>\n",
       "      <th>1</th>\n",
       "      <td>10</td>\n",
       "      <td>5749</td>\n",
       "      <td>325</td>\n",
       "      <td>84.662</td>\n",
       "      <td>55.752</td>\n",
       "      <td>37.500</td>\n",
       "      <td>27.666</td>\n",
       "      <td>20.873</td>\n",
       "      <td>15.840</td>\n",
       "      <td>12.088</td>\n",
       "      <td>9.304</td>\n",
       "      <td>7.261</td>\n",
       "      <td>5.807</td>\n",
       "      <td>4.747</td>\n",
       "      <td>3.945</td>\n",
       "      <td>3.344</td>\n",
       "    </tr>\n",
       "    <tr>\n",
       "      <th>2</th>\n",
       "      <td>11</td>\n",
       "      <td>5749</td>\n",
       "      <td>325</td>\n",
       "      <td>57.956</td>\n",
       "      <td>39.019</td>\n",
       "      <td>26.465</td>\n",
       "      <td>19.832</td>\n",
       "      <td>14.986</td>\n",
       "      <td>11.210</td>\n",
       "      <td>8.358</td>\n",
       "      <td>6.284</td>\n",
       "      <td>4.834</td>\n",
       "      <td>3.863</td>\n",
       "      <td>3.220</td>\n",
       "      <td>2.752</td>\n",
       "      <td>2.418</td>\n",
       "    </tr>\n",
       "    <tr>\n",
       "      <th>3</th>\n",
       "      <td>12</td>\n",
       "      <td>5749</td>\n",
       "      <td>325</td>\n",
       "      <td>85.883</td>\n",
       "      <td>52.717</td>\n",
       "      <td>33.817</td>\n",
       "      <td>24.600</td>\n",
       "      <td>18.367</td>\n",
       "      <td>13.795</td>\n",
       "      <td>10.481</td>\n",
       "      <td>8.071</td>\n",
       "      <td>6.345</td>\n",
       "      <td>5.144</td>\n",
       "      <td>4.268</td>\n",
       "      <td>3.592</td>\n",
       "      <td>3.043</td>\n",
       "    </tr>\n",
       "    <tr>\n",
       "      <th>4</th>\n",
       "      <td>13</td>\n",
       "      <td>5749</td>\n",
       "      <td>325</td>\n",
       "      <td>90.664</td>\n",
       "      <td>57.346</td>\n",
       "      <td>37.541</td>\n",
       "      <td>27.686</td>\n",
       "      <td>21.015</td>\n",
       "      <td>16.003</td>\n",
       "      <td>12.239</td>\n",
       "      <td>9.433</td>\n",
       "      <td>7.395</td>\n",
       "      <td>5.967</td>\n",
       "      <td>4.977</td>\n",
       "      <td>4.267</td>\n",
       "      <td>3.759</td>\n",
       "    </tr>\n",
       "  </tbody>\n",
       "</table>\n",
       "</div>"
      ],
      "text/plain": [
       "   tube_ID  tube_type  anode_voltage      -2      -6     -10     -14     -18  \\\n",
       "0        1       5749            325  99.278  65.383  44.717  34.082  26.669   \n",
       "1       10       5749            325  84.662  55.752  37.500  27.666  20.873   \n",
       "2       11       5749            325  57.956  39.019  26.465  19.832  14.986   \n",
       "3       12       5749            325  85.883  52.717  33.817  24.600  18.367   \n",
       "4       13       5749            325  90.664  57.346  37.541  27.686  21.015   \n",
       "\n",
       "      -22     -26     -30     -34    -38    -42    -46    -50  \n",
       "0  20.931  16.492  12.992  10.291  8.230  6.669  5.495  4.626  \n",
       "1  15.840  12.088   9.304   7.261  5.807  4.747  3.945  3.344  \n",
       "2  11.210   8.358   6.284   4.834  3.863  3.220  2.752  2.418  \n",
       "3  13.795  10.481   8.071   6.345  5.144  4.268  3.592  3.043  \n",
       "4  16.003  12.239   9.433   7.395  5.967  4.977  4.267  3.759  "
      ]
     },
     "execution_count": 208,
     "metadata": {},
     "output_type": "execute_result"
    }
   ],
   "source": [
    "df.head()"
   ]
  },
  {
   "cell_type": "markdown",
   "metadata": {},
   "source": [
    "### Show the basic statistics of the tube data"
   ]
  },
  {
   "cell_type": "code",
   "execution_count": 209,
   "metadata": {
    "scrolled": true
   },
   "outputs": [
    {
     "data": {
      "text/html": [
       "<div>\n",
       "<table border=\"1\" class=\"dataframe\">\n",
       "  <thead>\n",
       "    <tr style=\"text-align: right;\">\n",
       "      <th></th>\n",
       "      <th>-2</th>\n",
       "      <th>-6</th>\n",
       "      <th>-10</th>\n",
       "      <th>-14</th>\n",
       "      <th>-18</th>\n",
       "      <th>-22</th>\n",
       "      <th>-26</th>\n",
       "      <th>-30</th>\n",
       "      <th>-34</th>\n",
       "      <th>-38</th>\n",
       "      <th>-42</th>\n",
       "      <th>-46</th>\n",
       "      <th>-50</th>\n",
       "    </tr>\n",
       "  </thead>\n",
       "  <tbody>\n",
       "    <tr>\n",
       "      <th>count</th>\n",
       "      <td>49.000000</td>\n",
       "      <td>49.000000</td>\n",
       "      <td>49.000000</td>\n",
       "      <td>49.000000</td>\n",
       "      <td>49.000000</td>\n",
       "      <td>49.000000</td>\n",
       "      <td>49.000000</td>\n",
       "      <td>49.000000</td>\n",
       "      <td>49.000000</td>\n",
       "      <td>49.000000</td>\n",
       "      <td>49.000000</td>\n",
       "      <td>49.000000</td>\n",
       "      <td>49.000000</td>\n",
       "    </tr>\n",
       "    <tr>\n",
       "      <th>mean</th>\n",
       "      <td>84.799673</td>\n",
       "      <td>54.311041</td>\n",
       "      <td>36.111408</td>\n",
       "      <td>26.890265</td>\n",
       "      <td>20.579020</td>\n",
       "      <td>15.856878</td>\n",
       "      <td>12.301735</td>\n",
       "      <td>9.640918</td>\n",
       "      <td>7.677776</td>\n",
       "      <td>6.246265</td>\n",
       "      <td>5.190184</td>\n",
       "      <td>4.378469</td>\n",
       "      <td>3.770286</td>\n",
       "    </tr>\n",
       "    <tr>\n",
       "      <th>std</th>\n",
       "      <td>9.698785</td>\n",
       "      <td>6.042972</td>\n",
       "      <td>4.372425</td>\n",
       "      <td>3.511439</td>\n",
       "      <td>3.065207</td>\n",
       "      <td>2.746162</td>\n",
       "      <td>2.472266</td>\n",
       "      <td>2.223436</td>\n",
       "      <td>1.987546</td>\n",
       "      <td>1.758411</td>\n",
       "      <td>1.545969</td>\n",
       "      <td>1.361598</td>\n",
       "      <td>1.225021</td>\n",
       "    </tr>\n",
       "    <tr>\n",
       "      <th>min</th>\n",
       "      <td>55.209000</td>\n",
       "      <td>38.328000</td>\n",
       "      <td>25.882000</td>\n",
       "      <td>19.516000</td>\n",
       "      <td>14.487000</td>\n",
       "      <td>10.815000</td>\n",
       "      <td>8.044000</td>\n",
       "      <td>5.992000</td>\n",
       "      <td>4.557000</td>\n",
       "      <td>3.600000</td>\n",
       "      <td>2.975000</td>\n",
       "      <td>2.525000</td>\n",
       "      <td>2.180000</td>\n",
       "    </tr>\n",
       "    <tr>\n",
       "      <th>25%</th>\n",
       "      <td>80.152000</td>\n",
       "      <td>51.370000</td>\n",
       "      <td>33.824000</td>\n",
       "      <td>24.949000</td>\n",
       "      <td>18.770000</td>\n",
       "      <td>14.291000</td>\n",
       "      <td>10.876000</td>\n",
       "      <td>8.414000</td>\n",
       "      <td>6.599000</td>\n",
       "      <td>5.211000</td>\n",
       "      <td>4.268000</td>\n",
       "      <td>3.592000</td>\n",
       "      <td>3.043000</td>\n",
       "    </tr>\n",
       "    <tr>\n",
       "      <th>50%</th>\n",
       "      <td>86.052000</td>\n",
       "      <td>54.921000</td>\n",
       "      <td>36.069000</td>\n",
       "      <td>26.743000</td>\n",
       "      <td>20.632000</td>\n",
       "      <td>15.688000</td>\n",
       "      <td>12.030000</td>\n",
       "      <td>9.304000</td>\n",
       "      <td>7.318000</td>\n",
       "      <td>5.906000</td>\n",
       "      <td>4.889000</td>\n",
       "      <td>4.090000</td>\n",
       "      <td>3.487000</td>\n",
       "    </tr>\n",
       "    <tr>\n",
       "      <th>75%</th>\n",
       "      <td>90.054000</td>\n",
       "      <td>57.685000</td>\n",
       "      <td>38.138000</td>\n",
       "      <td>28.520000</td>\n",
       "      <td>21.656000</td>\n",
       "      <td>17.533000</td>\n",
       "      <td>14.101000</td>\n",
       "      <td>11.081000</td>\n",
       "      <td>8.787000</td>\n",
       "      <td>7.086000</td>\n",
       "      <td>5.857000</td>\n",
       "      <td>4.969000</td>\n",
       "      <td>4.293000</td>\n",
       "    </tr>\n",
       "    <tr>\n",
       "      <th>max</th>\n",
       "      <td>100.431000</td>\n",
       "      <td>65.603000</td>\n",
       "      <td>46.996000</td>\n",
       "      <td>36.666000</td>\n",
       "      <td>30.080000</td>\n",
       "      <td>25.292000</td>\n",
       "      <td>21.460000</td>\n",
       "      <td>18.384000</td>\n",
       "      <td>15.898000</td>\n",
       "      <td>13.867000</td>\n",
       "      <td>12.198000</td>\n",
       "      <td>10.760000</td>\n",
       "      <td>9.616000</td>\n",
       "    </tr>\n",
       "  </tbody>\n",
       "</table>\n",
       "</div>"
      ],
      "text/plain": [
       "               -2         -6        -10        -14        -18        -22  \\\n",
       "count   49.000000  49.000000  49.000000  49.000000  49.000000  49.000000   \n",
       "mean    84.799673  54.311041  36.111408  26.890265  20.579020  15.856878   \n",
       "std      9.698785   6.042972   4.372425   3.511439   3.065207   2.746162   \n",
       "min     55.209000  38.328000  25.882000  19.516000  14.487000  10.815000   \n",
       "25%     80.152000  51.370000  33.824000  24.949000  18.770000  14.291000   \n",
       "50%     86.052000  54.921000  36.069000  26.743000  20.632000  15.688000   \n",
       "75%     90.054000  57.685000  38.138000  28.520000  21.656000  17.533000   \n",
       "max    100.431000  65.603000  46.996000  36.666000  30.080000  25.292000   \n",
       "\n",
       "             -26        -30        -34        -38        -42        -46  \\\n",
       "count  49.000000  49.000000  49.000000  49.000000  49.000000  49.000000   \n",
       "mean   12.301735   9.640918   7.677776   6.246265   5.190184   4.378469   \n",
       "std     2.472266   2.223436   1.987546   1.758411   1.545969   1.361598   \n",
       "min     8.044000   5.992000   4.557000   3.600000   2.975000   2.525000   \n",
       "25%    10.876000   8.414000   6.599000   5.211000   4.268000   3.592000   \n",
       "50%    12.030000   9.304000   7.318000   5.906000   4.889000   4.090000   \n",
       "75%    14.101000  11.081000   8.787000   7.086000   5.857000   4.969000   \n",
       "max    21.460000  18.384000  15.898000  13.867000  12.198000  10.760000   \n",
       "\n",
       "             -50  \n",
       "count  49.000000  \n",
       "mean    3.770286  \n",
       "std     1.225021  \n",
       "min     2.180000  \n",
       "25%     3.043000  \n",
       "50%     3.487000  \n",
       "75%     4.293000  \n",
       "max     9.616000  "
      ]
     },
     "execution_count": 209,
     "metadata": {},
     "output_type": "execute_result"
    }
   ],
   "source": [
    "df_stats = df.describe()\n",
    "df_stats = df_stats[voltages_sorted]\n",
    "df_stats"
   ]
  },
  {
   "cell_type": "markdown",
   "metadata": {},
   "source": [
    "### Plot the Min, Mean, and Max"
   ]
  },
  {
   "cell_type": "code",
   "execution_count": 210,
   "metadata": {},
   "outputs": [
    {
     "data": {
      "image/png": "[encoded data removed]",
      "text/plain": [
       "<matplotlib.figure.Figure at 0x120ca0fd0>"
      ]
     },
     "metadata": {},
     "output_type": "display_data"
    }
   ],
   "source": [
    "# Extract the Min, Mean, and Max values from the dataset and plot them to show the range of values\n",
    "df_mean = df_stats.loc['mean']\n",
    "df_max = df_stats.loc['max']\n",
    "df_min = df_stats.loc['min']\n",
    "sns.plt.plot(df_mean)\n",
    "sns.plt.plot(df_max)\n",
    "sns.plt.plot(df_min)\n",
    "sns.plt.show()"
   ]
  },
  {
   "cell_type": "markdown",
   "metadata": {},
   "source": [
    "### OBSERVATION: The Standard Devition gets worse as the bias voltage approaches zero:"
   ]
  },
  {
   "cell_type": "code",
   "execution_count": 211,
   "metadata": {},
   "outputs": [
    {
     "data": {
      "image/png": "[encoded data removed]",
      "text/plain": [
       "<matplotlib.figure.Figure at 0x11ef03400>"
      ]
     },
     "metadata": {},
     "output_type": "display_data"
    }
   ],
   "source": [
    "df_std = df_stats.loc['std']\n",
    "sns.plt.plot(df_std)\n",
    "sns.plt.show()"
   ]
  },
  {
   "cell_type": "markdown",
   "metadata": {},
   "source": [
    "### A scatter plot of all the tubes"
   ]
  },
  {
   "cell_type": "code",
   "execution_count": 212,
   "metadata": {},
   "outputs": [
    {
     "name": "stdout",
     "output_type": "stream",
     "text": [
      "<class 'pandas.core.frame.DataFrame'>\n"
     ]
    }
   ],
   "source": [
    "sns.set_style(\"darkgrid\")\n",
    "tube_mean = df_stats[1:2]\n",
    "print(type(tube_mean))\n"
   ]
  },
  {
   "cell_type": "markdown",
   "metadata": {},
   "source": [
    "### Plot a series of histograms showing the distribution of currents at each bias point"
   ]
  },
  {
   "cell_type": "code",
   "execution_count": 213,
   "metadata": {},
   "outputs": [],
   "source": [
    "# # Plot each bias voltage column as a histogram\n",
    "# dict_of_series_objects_to_plot = {}\n",
    "# for i in enumerate(cols):\n",
    "#     if str(i[1]).startswith('-') == True:\n",
    "#         series_name = i[1]\n",
    "#         templist = df[df.columns[i[0]]]\n",
    "#         dict_of_series_objects_to_plot.update({i[1]: templist})\n",
    "#     else:\n",
    "#         pass\n",
    "\n",
    "# for i in list(dict_of_series_objects_to_plot.keys()):\n",
    "#     s = dict_of_series_objects_to_plot.get(i)\n",
    "#     s.hist()\n",
    "#     title = \"Grid Voltage = \" + i\n",
    "#     plt.title(title)\n",
    "# #     plt.show()\n",
    "#     plt.plot(s)\n",
    "# #     plt.show()\n",
    "    \n",
    "# #     ax = df.plot(lw=2,colormap='jet',marker='.',markersize=10,title='Grid Voltage')\n",
    "# #     ax.set_xlabel(\"x label\")\n",
    "# #     ax.set_ylabel(\"y label\")\n",
    "    \n",
    "# # s = df[df.columns[0]]    \n",
    "# # s.hist\n",
    "\n",
    "# # s.hist()\n",
    "# # plt.show()\n"
   ]
  },
  {
   "cell_type": "code",
   "execution_count": null,
   "metadata": {
    "collapsed": true
   },
   "outputs": [],
   "source": []
  }
 ],
 "metadata": {
  "kernelspec": {
   "display_name": "Python 3",
   "language": "python",
   "name": "python3"
  },
  "language_info": {
   "codemirror_mode": {
    "name": "ipython",
    "version": 3
   },
   "file_extension": ".py",
   "mimetype": "text/x-python",
   "name": "python",
   "nbconvert_exporter": "python",
   "pygments_lexer": "ipython3",
   "version": "3.6.0"
  }
 },
 "nbformat": 4,
 "nbformat_minor": 2
}
