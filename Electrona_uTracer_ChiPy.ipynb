{
 "cells": [
  {
   "cell_type": "markdown",
   "metadata": {},
   "source": [
    "<img src=\"https://electronaut.info/wp-content/uploads/2017/05/Tubescape_jupyter2.jpg\">"
   ]
  },
  {
   "cell_type": "markdown",
   "metadata": {},
   "source": [
    "<h1><font color = b30000>TUBE DATA MATCHER for uTRACER FILES</font></h1><h5>Anode current for a sweep of grid voltages  when anode voltage = constant</h5>\n"
   ]
  },
  {
   "cell_type": "markdown",
   "metadata": {},
   "source": [
    "# STEP 1 — Import and process tube data, build dataframe."
   ]
  },
  {
   "cell_type": "code",
   "execution_count": 1,
   "metadata": {
    "scrolled": true
   },
   "outputs": [
    {
     "name": "stdout",
     "output_type": "stream",
     "text": [
      "Please enter the path to the folder containing the uTracer files: /Users/rrmc/Desktop/5749_197_onward\n",
      "\n",
      "What type of tubes are these? 5749\n",
      "\n",
      "— — — — — \n",
      "\n",
      "Data from 288 tubes of type 5749 was successfully read.\n",
      "A dataframe containing all 288 tubes was successfully created.\n"
     ]
    },
    {
     "data": {
      "text/html": [
       "<div>\n",
       "<table border=\"1\" class=\"dataframe\">\n",
       "  <thead>\n",
       "    <tr style=\"text-align: right;\">\n",
       "      <th></th>\n",
       "      <th>tube_ID</th>\n",
       "      <th>tube_type</th>\n",
       "      <th>anode_voltage</th>\n",
       "      <th>Bias_2</th>\n",
       "      <th>Bias_6</th>\n",
       "      <th>Bias_10</th>\n",
       "      <th>Bias_14</th>\n",
       "      <th>Bias_18</th>\n",
       "      <th>Bias_22</th>\n",
       "      <th>Bias_26</th>\n",
       "      <th>Bias_30</th>\n",
       "      <th>Bias_34</th>\n",
       "      <th>Bias_38</th>\n",
       "      <th>Bias_42</th>\n",
       "      <th>Bias_46</th>\n",
       "      <th>Bias_50</th>\n",
       "    </tr>\n",
       "  </thead>\n",
       "  <tbody>\n",
       "    <tr>\n",
       "      <th>0</th>\n",
       "      <td>197</td>\n",
       "      <td>5749</td>\n",
       "      <td>325</td>\n",
       "      <td>85.442</td>\n",
       "      <td>53.785</td>\n",
       "      <td>35.282</td>\n",
       "      <td>25.889</td>\n",
       "      <td>19.52</td>\n",
       "      <td>14.877</td>\n",
       "      <td>11.495</td>\n",
       "      <td>9.022</td>\n",
       "      <td>7.223</td>\n",
       "      <td>5.891</td>\n",
       "      <td>4.916</td>\n",
       "      <td>4.179</td>\n",
       "      <td>3.599</td>\n",
       "    </tr>\n",
       "    <tr>\n",
       "      <th>1</th>\n",
       "      <td>198</td>\n",
       "      <td>5749</td>\n",
       "      <td>325</td>\n",
       "      <td>95.683</td>\n",
       "      <td>61.076</td>\n",
       "      <td>41.02</td>\n",
       "      <td>30.853</td>\n",
       "      <td>24.037</td>\n",
       "      <td>18.882</td>\n",
       "      <td>14.949</td>\n",
       "      <td>11.944</td>\n",
       "      <td>9.677</td>\n",
       "      <td>7.98</td>\n",
       "      <td>6.698</td>\n",
       "      <td>5.718</td>\n",
       "      <td>5.018</td>\n",
       "    </tr>\n",
       "    <tr>\n",
       "      <th>2</th>\n",
       "      <td>199</td>\n",
       "      <td>5749</td>\n",
       "      <td>325</td>\n",
       "      <td>85.984</td>\n",
       "      <td>54.734</td>\n",
       "      <td>35.805</td>\n",
       "      <td>26.404</td>\n",
       "      <td>20.049</td>\n",
       "      <td>15.379</td>\n",
       "      <td>11.9</td>\n",
       "      <td>9.319</td>\n",
       "      <td>7.428</td>\n",
       "      <td>6.043</td>\n",
       "      <td>5.014</td>\n",
       "      <td>4.213</td>\n",
       "      <td>3.589</td>\n",
       "    </tr>\n",
       "    <tr>\n",
       "      <th>3</th>\n",
       "      <td>200</td>\n",
       "      <td>5749</td>\n",
       "      <td>325</td>\n",
       "      <td>83.322</td>\n",
       "      <td>52.36</td>\n",
       "      <td>34.55</td>\n",
       "      <td>25.482</td>\n",
       "      <td>19.11</td>\n",
       "      <td>14.453</td>\n",
       "      <td>11.025</td>\n",
       "      <td>8.517</td>\n",
       "      <td>6.701</td>\n",
       "      <td>5.367</td>\n",
       "      <td>4.413</td>\n",
       "      <td>3.675</td>\n",
       "      <td>3.101</td>\n",
       "    </tr>\n",
       "    <tr>\n",
       "      <th>4</th>\n",
       "      <td>201</td>\n",
       "      <td>5749</td>\n",
       "      <td>325</td>\n",
       "      <td>61.619</td>\n",
       "      <td>38.735</td>\n",
       "      <td>25.431</td>\n",
       "      <td>19.238</td>\n",
       "      <td>14.687</td>\n",
       "      <td>11.189</td>\n",
       "      <td>8.626</td>\n",
       "      <td>6.769</td>\n",
       "      <td>5.411</td>\n",
       "      <td>4.438</td>\n",
       "      <td>3.757</td>\n",
       "      <td>3.28</td>\n",
       "      <td>2.933</td>\n",
       "    </tr>\n",
       "  </tbody>\n",
       "</table>\n",
       "</div>"
      ],
      "text/plain": [
       "  tube_ID tube_type anode_voltage  Bias_2  Bias_6 Bias_10 Bias_14 Bias_18  \\\n",
       "0     197      5749           325  85.442  53.785  35.282  25.889   19.52   \n",
       "1     198      5749           325  95.683  61.076   41.02  30.853  24.037   \n",
       "2     199      5749           325  85.984  54.734  35.805  26.404  20.049   \n",
       "3     200      5749           325  83.322   52.36   34.55  25.482   19.11   \n",
       "4     201      5749           325  61.619  38.735  25.431  19.238  14.687   \n",
       "\n",
       "  Bias_22 Bias_26 Bias_30 Bias_34 Bias_38 Bias_42 Bias_46 Bias_50  \n",
       "0  14.877  11.495   9.022   7.223   5.891   4.916   4.179   3.599  \n",
       "1  18.882  14.949  11.944   9.677    7.98   6.698   5.718   5.018  \n",
       "2  15.379    11.9   9.319   7.428   6.043   5.014   4.213   3.589  \n",
       "3  14.453  11.025   8.517   6.701   5.367   4.413   3.675   3.101  \n",
       "4  11.189   8.626   6.769   5.411   4.438   3.757    3.28   2.933  "
      ]
     },
     "execution_count": 1,
     "metadata": {},
     "output_type": "execute_result"
    }
   ],
   "source": [
    "from electronaut_uTracer_Import import *\n",
    "df.head()"
   ]
  },
  {
   "cell_type": "markdown",
   "metadata": {},
   "source": [
    "##### TODO:  INSERT PLOT OF ALL TUBES"
   ]
  },
  {
   "cell_type": "markdown",
   "metadata": {},
   "source": [
    "\n",
    "# STEP 3: Show the statistics of the tube data set"
   ]
  },
  {
   "cell_type": "code",
   "execution_count": 2,
   "metadata": {},
   "outputs": [
    {
     "data": {
      "text/html": [
       "<div>\n",
       "<table border=\"1\" class=\"dataframe\">\n",
       "  <thead>\n",
       "    <tr style=\"text-align: right;\">\n",
       "      <th></th>\n",
       "      <th>tube_ID</th>\n",
       "      <th>tube_type</th>\n",
       "      <th>anode_voltage</th>\n",
       "      <th>Bias_2</th>\n",
       "      <th>Bias_6</th>\n",
       "      <th>Bias_10</th>\n",
       "      <th>Bias_14</th>\n",
       "      <th>Bias_18</th>\n",
       "      <th>Bias_22</th>\n",
       "      <th>Bias_26</th>\n",
       "      <th>Bias_30</th>\n",
       "      <th>Bias_34</th>\n",
       "      <th>Bias_38</th>\n",
       "      <th>Bias_42</th>\n",
       "      <th>Bias_46</th>\n",
       "      <th>Bias_50</th>\n",
       "    </tr>\n",
       "  </thead>\n",
       "  <tbody>\n",
       "    <tr>\n",
       "      <th>count</th>\n",
       "      <td>288</td>\n",
       "      <td>288</td>\n",
       "      <td>288.0</td>\n",
       "      <td>288.000000</td>\n",
       "      <td>288.000000</td>\n",
       "      <td>288.000000</td>\n",
       "      <td>288.000000</td>\n",
       "      <td>288.000000</td>\n",
       "      <td>288.000000</td>\n",
       "      <td>288.000000</td>\n",
       "      <td>288.000000</td>\n",
       "      <td>288.000000</td>\n",
       "      <td>288.000000</td>\n",
       "      <td>288.000000</td>\n",
       "      <td>288.000000</td>\n",
       "      <td>288.000000</td>\n",
       "    </tr>\n",
       "    <tr>\n",
       "      <th>mean</th>\n",
       "      <td>341</td>\n",
       "      <td>5749</td>\n",
       "      <td>325.0</td>\n",
       "      <td>80.639076</td>\n",
       "      <td>51.936823</td>\n",
       "      <td>34.326330</td>\n",
       "      <td>25.406969</td>\n",
       "      <td>19.327507</td>\n",
       "      <td>14.826236</td>\n",
       "      <td>11.494785</td>\n",
       "      <td>9.026958</td>\n",
       "      <td>7.221705</td>\n",
       "      <td>5.923410</td>\n",
       "      <td>4.979146</td>\n",
       "      <td>4.260194</td>\n",
       "      <td>3.703906</td>\n",
       "    </tr>\n",
       "    <tr>\n",
       "      <th>std</th>\n",
       "      <td>83</td>\n",
       "      <td>0</td>\n",
       "      <td>0.0</td>\n",
       "      <td>10.075078</td>\n",
       "      <td>6.378474</td>\n",
       "      <td>4.400151</td>\n",
       "      <td>3.296576</td>\n",
       "      <td>2.604874</td>\n",
       "      <td>2.118785</td>\n",
       "      <td>1.758546</td>\n",
       "      <td>1.476644</td>\n",
       "      <td>1.247212</td>\n",
       "      <td>1.060033</td>\n",
       "      <td>0.908623</td>\n",
       "      <td>0.790440</td>\n",
       "      <td>0.698520</td>\n",
       "    </tr>\n",
       "    <tr>\n",
       "      <th>min</th>\n",
       "      <td>197</td>\n",
       "      <td>5749</td>\n",
       "      <td>325.0</td>\n",
       "      <td>28.079000</td>\n",
       "      <td>12.105000</td>\n",
       "      <td>4.034000</td>\n",
       "      <td>2.148000</td>\n",
       "      <td>1.499000</td>\n",
       "      <td>1.111000</td>\n",
       "      <td>0.832000</td>\n",
       "      <td>0.622000</td>\n",
       "      <td>0.474000</td>\n",
       "      <td>0.374000</td>\n",
       "      <td>0.300000</td>\n",
       "      <td>0.251000</td>\n",
       "      <td>0.218000</td>\n",
       "    </tr>\n",
       "    <tr>\n",
       "      <th>25%</th>\n",
       "      <td>268</td>\n",
       "      <td>5749</td>\n",
       "      <td>325.0</td>\n",
       "      <td>74.937500</td>\n",
       "      <td>48.904750</td>\n",
       "      <td>32.354000</td>\n",
       "      <td>23.826000</td>\n",
       "      <td>18.041500</td>\n",
       "      <td>13.684000</td>\n",
       "      <td>10.488250</td>\n",
       "      <td>8.139250</td>\n",
       "      <td>6.488500</td>\n",
       "      <td>5.313750</td>\n",
       "      <td>4.479000</td>\n",
       "      <td>3.846000</td>\n",
       "      <td>3.357500</td>\n",
       "    </tr>\n",
       "    <tr>\n",
       "      <th>50%</th>\n",
       "      <td>341</td>\n",
       "      <td>5749</td>\n",
       "      <td>325.0</td>\n",
       "      <td>82.584500</td>\n",
       "      <td>53.005000</td>\n",
       "      <td>35.034500</td>\n",
       "      <td>25.805500</td>\n",
       "      <td>19.538500</td>\n",
       "      <td>14.994000</td>\n",
       "      <td>11.633500</td>\n",
       "      <td>9.075000</td>\n",
       "      <td>7.239500</td>\n",
       "      <td>5.945500</td>\n",
       "      <td>5.024000</td>\n",
       "      <td>4.279000</td>\n",
       "      <td>3.735500</td>\n",
       "    </tr>\n",
       "    <tr>\n",
       "      <th>75%</th>\n",
       "      <td>413</td>\n",
       "      <td>5749</td>\n",
       "      <td>325.0</td>\n",
       "      <td>87.760750</td>\n",
       "      <td>56.247250</td>\n",
       "      <td>37.135750</td>\n",
       "      <td>27.510000</td>\n",
       "      <td>20.989250</td>\n",
       "      <td>16.217250</td>\n",
       "      <td>12.596250</td>\n",
       "      <td>10.001000</td>\n",
       "      <td>8.043500</td>\n",
       "      <td>6.614000</td>\n",
       "      <td>5.560500</td>\n",
       "      <td>4.742000</td>\n",
       "      <td>4.126250</td>\n",
       "    </tr>\n",
       "    <tr>\n",
       "      <th>max</th>\n",
       "      <td>486</td>\n",
       "      <td>5749</td>\n",
       "      <td>325.0</td>\n",
       "      <td>101.499000</td>\n",
       "      <td>66.349000</td>\n",
       "      <td>44.818000</td>\n",
       "      <td>33.614000</td>\n",
       "      <td>26.418000</td>\n",
       "      <td>20.968000</td>\n",
       "      <td>16.726000</td>\n",
       "      <td>13.975000</td>\n",
       "      <td>12.071000</td>\n",
       "      <td>10.576000</td>\n",
       "      <td>9.385000</td>\n",
       "      <td>8.366000</td>\n",
       "      <td>7.508000</td>\n",
       "    </tr>\n",
       "  </tbody>\n",
       "</table>\n",
       "</div>"
      ],
      "text/plain": [
       "       tube_ID  tube_type  anode_voltage      Bias_2      Bias_6     Bias_10  \\\n",
       "count      288        288          288.0  288.000000  288.000000  288.000000   \n",
       "mean       341       5749          325.0   80.639076   51.936823   34.326330   \n",
       "std         83          0            0.0   10.075078    6.378474    4.400151   \n",
       "min        197       5749          325.0   28.079000   12.105000    4.034000   \n",
       "25%        268       5749          325.0   74.937500   48.904750   32.354000   \n",
       "50%        341       5749          325.0   82.584500   53.005000   35.034500   \n",
       "75%        413       5749          325.0   87.760750   56.247250   37.135750   \n",
       "max        486       5749          325.0  101.499000   66.349000   44.818000   \n",
       "\n",
       "          Bias_14     Bias_18     Bias_22     Bias_26     Bias_30     Bias_34  \\\n",
       "count  288.000000  288.000000  288.000000  288.000000  288.000000  288.000000   \n",
       "mean    25.406969   19.327507   14.826236   11.494785    9.026958    7.221705   \n",
       "std      3.296576    2.604874    2.118785    1.758546    1.476644    1.247212   \n",
       "min      2.148000    1.499000    1.111000    0.832000    0.622000    0.474000   \n",
       "25%     23.826000   18.041500   13.684000   10.488250    8.139250    6.488500   \n",
       "50%     25.805500   19.538500   14.994000   11.633500    9.075000    7.239500   \n",
       "75%     27.510000   20.989250   16.217250   12.596250   10.001000    8.043500   \n",
       "max     33.614000   26.418000   20.968000   16.726000   13.975000   12.071000   \n",
       "\n",
       "          Bias_38     Bias_42     Bias_46     Bias_50  \n",
       "count  288.000000  288.000000  288.000000  288.000000  \n",
       "mean     5.923410    4.979146    4.260194    3.703906  \n",
       "std      1.060033    0.908623    0.790440    0.698520  \n",
       "min      0.374000    0.300000    0.251000    0.218000  \n",
       "25%      5.313750    4.479000    3.846000    3.357500  \n",
       "50%      5.945500    5.024000    4.279000    3.735500  \n",
       "75%      6.614000    5.560500    4.742000    4.126250  \n",
       "max     10.576000    9.385000    8.366000    7.508000  "
      ]
     },
     "execution_count": 2,
     "metadata": {},
     "output_type": "execute_result"
    }
   ],
   "source": [
    "# For some reason, .describe is requiring the .astype(float) in order to show the stats.\n",
    "df_stats = df.astype(float).describe()\n",
    "df_stats.loc[:, 'tube_type'] = df_stats.loc[:, 'tube_type'].astype(int)\n",
    "df_stats.loc[:, 'tube_ID'] = df_stats.loc[:, 'tube_ID'].astype(int)\n",
    "# df_stats.loc[:, 'tube_ID'] = df_stats.loc[:, 'tube_ID'].astype(str)\n",
    "df_stats"
   ]
  },
  {
   "cell_type": "code",
   "execution_count": 3,
   "metadata": {},
   "outputs": [],
   "source": [
    "# Plot all tubes\n",
    "\n",
    "from bokeh.plotting import figure, output_file, show\n",
    "\n",
    "output_file(\"Tube_Batch_Statistics.html\")\n",
    "\n",
    "# Configure the size, title, etc.\n",
    "p = figure(plot_width=1000, plot_height=750, title=\"Plate Current as a function of Grid Voltage\")\n",
    "p.title.text_color = \"black\"\n",
    "\n",
    "# Make a list for the x_values by chopping off all the \"bias_\" column name prefixes and converting to ints\n",
    "temp_columns = list(df_stats.columns)\n",
    "stats_columns = []\n",
    "x_values = [int(i[5:]) for i in temp_columns if i.startswith('Bias_') == True]        \n",
    "\n",
    "# Add all rows of tubes\n",
    "for i in range(len(df.index)):\n",
    "    row = df.iloc[i]\n",
    "    row = list(row)\n",
    "    row = row[3:]\n",
    "    p.line(x_values, row, line_width=2)\n",
    "\n",
    "# Set axis labels\n",
    "p.xaxis.axis_label = \"Grid Voltage (V)\"\n",
    "p.xaxis.axis_label_text_color = \"#aa6666\"\n",
    "p.yaxis.axis_label = \"Plate Current (mA)\"\n",
    "\n",
    "# Set grid lines\n",
    "p.ygrid.minor_grid_line_color = 'navy'\n",
    "p.ygrid.minor_grid_line_alpha = 0.2\n",
    "p.xgrid.minor_grid_line_color = 'navy'\n",
    "p.xgrid.minor_grid_line_alpha = 0.2\n",
    "\n",
    "# Set background color\n",
    "p.background_fill_color = \"beige\"\n",
    "p.background_fill_alpha = 0.5\n",
    "\n",
    "# Show the plot\n",
    "show(p)"
   ]
  },
  {
   "cell_type": "markdown",
   "metadata": {},
   "source": [
    "##### TODO:  INSERT PLOT(S) OF STATISTICS "
   ]
  },
  {
   "cell_type": "markdown",
   "metadata": {},
   "source": [
    "# STEP 4: Calculate the differences between all tubes"
   ]
  },
  {
   "cell_type": "code",
   "execution_count": null,
   "metadata": {},
   "outputs": [],
   "source": [
    "from ipywidgets import FloatProgress\n",
    "from IPython.display import display\n",
    "import time\n",
    "\n",
    "start_time = time.time() \n",
    "\n",
    "def build_difference_df(df, df_stats):\n",
    "    \n",
    "    # Display a progress bar\n",
    "    build_diff_progress_bar = FloatProgress(min=0, max=100)\n",
    "    display(build_diff_progress_bar)\n",
    "       \n",
    "    # Make a list of all the columns in the dataframe\n",
    "    cols = list(df.columns)\n",
    "    \n",
    "    # Make a list of just the bias columns\n",
    "    bias_list = []\n",
    "    for i in cols:\n",
    "        if i.startswith('Bias_') == True:\n",
    "            bias_list.append(i)\n",
    "    \n",
    "    # BMake an empty list to hold the calculated values, to be used to build the difference dataframe\n",
    "    diff_squared_list = []\n",
    "    \n",
    "    # Iterate through the index of tubes in the master dataframe to select a reference tube\n",
    "    for each_ref_tube in df.index:\n",
    "        \n",
    "        # Get the next reference tube data, as a series\n",
    "        ref_tube = df.iloc[each_ref_tube]\n",
    "        ref_tube_ID = ref_tube.tube_ID\n",
    "\n",
    "        # Iterate through the index of tubes in the master dataframe to select a match tube\n",
    "        for each_match_tube in df.index:\n",
    "            \n",
    "            # Get the next tube data to be compared, as a series\n",
    "            match_tube = df.iloc[each_match_tube]\n",
    "            match_tube_ID = match_tube.tube_ID\n",
    "            \n",
    "            # Dictionary container to hold the difference variables for each tube\n",
    "            temp_dict = {}\n",
    "            \n",
    "            # Compute the squares of the differences in each current measurement\n",
    "            error_sum = 0\n",
    "            for bias in enumerate(bias_list):\n",
    "                mismatch = ((float(match_tube.loc[bias[1]]) - float(ref_tube.loc[bias[1]]))**2)\n",
    "                temp_dict[bias[1]] = mismatch\n",
    "                error_sum = error_sum + mismatch\n",
    "\n",
    "            # Add other relevant key/value pairs to the dictionary  \n",
    "            temp_dict['ref_tube_ID'] = ref_tube_ID\n",
    "            temp_dict['match_tube_ID'] = match_tube_ID\n",
    "            temp_dict['error_sum'] = error_sum\n",
    "\n",
    "            # Append the tube's calculated values to the diff_squared_list\n",
    "            diff_squared_list.append(temp_dict)\n",
    "            \n",
    "            # Update the progress bar\n",
    "            build_diff_progress_bar.value += 1\n",
    "\n",
    "    \n",
    "    # Make an ordered list for the columns of the new difference dataframe\n",
    "    new_cols_to_add = ['ref_tube_ID', 'match_tube_ID', 'error_sum']\n",
    "    df_dif_cols = new_cols_to_add + bias_list\n",
    "    df_dif = pd.DataFrame(diff_squared_list, columns = df_dif_cols)\n",
    "\n",
    "    return df_dif\n",
    "    \n",
    "    \n",
    "df_dif = build_difference_df(df, df_stats)\n",
    "\n",
    "# Produce a brief report:\n",
    "total_rows = len(df_dif)\n",
    "total_columns = len(df_dif.columns)\n",
    "total_datapoints = total_rows * total_columns\n",
    "stop_time = time.time()\n",
    "elapsed_time = stop_time - start_time\n",
    "print(\"It took\", round(elapsed_time, 2), \"seconds to calculate\", \n",
    "      total_datapoints, \"values, resulting in\", len(df_dif), \"rows.\")\n",
    "\n",
    "# Display the head of the difference dataframe\n",
    "df_dif.head()"
   ]
  },
  {
   "cell_type": "code",
   "execution_count": null,
   "metadata": {},
   "outputs": [],
   "source": [
    "len(df_dif)"
   ]
  },
  {
   "cell_type": "markdown",
   "metadata": {},
   "source": [
    "# Find the best matches for a particular tube_ID"
   ]
  },
  {
   "cell_type": "code",
   "execution_count": null,
   "metadata": {},
   "outputs": [],
   "source": [
    "# This function requires the tube_to_match and tube_set_size variable to be set manually, below.\n",
    "\n",
    "def find_best_set_for_chosen_tube_ID(tube_to_match, tube_set_size):\n",
    "    tube_to_match = str(tube_to_match)\n",
    "    \n",
    "    # Create a new dataframe showing only tube_set_size number of nearest matches to the chosen tube_to_match\n",
    "    df_tube_set = df_dif[(df_dif.ref_tube_ID == tube_to_match)].sort_values('error_sum').head(tube_set_size)\n",
    "    \n",
    "    return df_tube_set\n",
    "\n",
    "tube_to_match = 419\n",
    "tube_set_size = 2\n",
    "df_tube_set = find_best_set_for_chosen_tube_ID(tube_to_match, tube_set_size)\n",
    "df_tube_set.head(tube_set_size)\n"
   ]
  },
  {
   "cell_type": "code",
   "execution_count": null,
   "metadata": {
    "collapsed": true
   },
   "outputs": [],
   "source": [
    "df_tube_set"
   ]
  },
  {
   "cell_type": "code",
   "execution_count": null,
   "metadata": {
    "collapsed": true
   },
   "outputs": [],
   "source": [
    "# Total up the error_sum column to create a score for the tube set.  Lower is better. \n",
    "tube_set_score = df_tube_set.error_sum.sum()\n",
    "print(\"Tube-set SCORE:\", tube_set_score, \" (Lower is better)\")"
   ]
  },
  {
   "cell_type": "markdown",
   "metadata": {},
   "source": [
    "# STEP 5:  Build a dataframe of the best matched sets in order"
   ]
  },
  {
   "cell_type": "code",
   "execution_count": null,
   "metadata": {
    "collapsed": true,
    "scrolled": false
   },
   "outputs": [],
   "source": [
    "# math lib used for generating ordinal strings; i.e. ['1st', '2nd', '3rd'] etc.\n",
    "import math\n",
    "\n",
    "\n",
    "# Make a local version of df_dif that can be butchered\n",
    "df_dif_copy = df_dif.copy()\n",
    "\n",
    "def ask_tube_set_size():\n",
    "    \n",
    "    # Ask the user to enter the set size\n",
    "    tube_set_size = input(\"Please enter the number of tubes per matched set:\")\n",
    "    \n",
    "    # Build a list of tube names for the tube set size\n",
    "    tube_sets_columns = ['Tube_' + str(1 + i) for i in range(int(tube_set_size))]    \n",
    "    \n",
    "    return tube_set_size, tube_sets_columns \n",
    "\n",
    "\n",
    "def find_best_set_for_chosen_tube_ID(df_dif_copy, tube_to_match, tube_set_size, tube_sets_columns):\n",
    "    tube_to_match = str(tube_to_match)\n",
    "        \n",
    "    # Create a new dataframe showing only tube_set_size number of nearest matches to the chosen tube_to_match\n",
    "    df_tube_set = df_dif_copy[(df_dif_copy.ref_tube_ID == tube_to_match)].sort_values('error_sum').head(int(tube_set_size))\n",
    "        \n",
    "    # Create the dictionary of the tubes in the set and the total score of the set\n",
    "    tube_set_list = list(df_tube_set.match_tube_ID)\n",
    "    tube_set_dict = dict(zip(tube_sets_columns, tube_set_list))   \n",
    "    tube_set_score = df_tube_set.error_sum.sum()\n",
    "    tube_set_dict.update({'tube_set_score':tube_set_score})\n",
    "\n",
    "    return tube_set_dict\n",
    "\n",
    "\n",
    "def find_best_set(df_dif_copy, tube_set_size, tube_sets_columns):\n",
    "    \n",
    "    # Make an empty list to hold the tube sets and their scores\n",
    "    tube_sets_and_scores_list = []\n",
    "    temp_dict = {}\n",
    "    \n",
    "    if 'tube_set_score' in tube_sets_columns:\n",
    "        tube_sets_columns.remove('tube_set_score')\n",
    "\n",
    "    for i in df_dif_copy.ref_tube_ID.unique():\n",
    "        temp_dict = find_best_set_for_chosen_tube_ID(df_dif_copy, i, tube_set_size, tube_sets_columns)\n",
    "        tube_sets_and_scores_list.append(temp_dict)\n",
    "\n",
    "    # Add 'tube_set_score' column name at the front of the list\n",
    "    if 'tube_set_score' not in tube_sets_columns: \n",
    "        tube_sets_columns.insert(0, 'tube_set_score')    \n",
    "    \n",
    "    # Create a dataframe for the tube sets called df_tube_sets \n",
    "    df_tube_sets = pd.DataFrame(tube_sets_and_scores_list, columns=tube_sets_columns)\n",
    "    \n",
    "    # Sort the tube_set_score column, take the top row (with the lowest score) as a new df \n",
    "    df_best_set_temp = df_tube_sets.sort_values('tube_set_score').head(1)\n",
    "        \n",
    "    return df_best_set_temp\n",
    " \n",
    "    \n",
    "# Start a timer\n",
    "start_time = time.time()   \n",
    "    \n",
    "# Make an empty dataframe to hold all the sets and their scores\n",
    "df_best_tube_sets = pd.DataFrame()\n",
    "\n",
    "# Get the tube_set_size and the tube_sets_columns from the ask_tube_set_size function\n",
    "tube_set_size, tube_sets_columns = ask_tube_set_size()\n",
    "\n",
    "# Get the best tube set from the batch\n",
    "df_best_set_temp = find_best_set(df_dif_copy, tube_set_size, tube_sets_columns) \n",
    "\n",
    "# Display a progress bar\n",
    "progress_bar_range = int(len(df)/int(tube_set_size))\n",
    "best_matched_progress_bar = FloatProgress(min=0, max=progress_bar_range)\n",
    "display(best_matched_progress_bar)\n",
    "\n",
    "# Append the best tube set to the df_best_tube_sets dataframe\n",
    "df_best_tube_sets = df_best_tube_sets.append(df_best_set_temp)\n",
    "\n",
    "# Remove the best tube set from df_dif_copy\n",
    "tube_delete_list = list(df_best_set_temp.iloc[0])\n",
    "tube_delete_list.pop(0)\n",
    "df_dif_copy = df_dif_copy[~df_dif_copy.ref_tube_ID.isin(tube_delete_list)]\n",
    "df_dif_copy = df_dif_copy[~df_dif_copy.match_tube_ID.isin(tube_delete_list)]\n",
    "\n",
    "# A function to generate ordinal strings; i.e. ['1st', '2nd', '3rd'] etc.\n",
    "ordinal = lambda n: \"%d%s\" % (n,\"tsnrhtdd\"[(math.floor(n/10)%10!=1)*(n%10<4)*n%10::4])\n",
    "ordinal_list = [ordinal(n) for n in range(1, int(len(df)))]\n",
    "\n",
    "set_count = 1\n",
    "print()\n",
    "print(\"*** BEST! ***\")\n",
    "print(ordinal_list[0],\"best tube set SCORE:\", str(df_best_set_temp.tube_set_score.iloc[0]))\n",
    "print(\"TUBES:\", tube_delete_list)\n",
    "\n",
    "# Update the progress bar\n",
    "best_matched_progress_bar.value += 1\n",
    "\n",
    "\n",
    "while len(df_dif_copy.ref_tube_ID.unique()) >= int(tube_set_size):\n",
    "    # Get all the rest of the sets from the batch\n",
    "    df_best_set_temp = find_best_set(df_dif_copy, tube_set_size, tube_sets_columns)\n",
    "    \n",
    "    # Append the best tube set to the df_best_tube_sets dataframe\n",
    "    df_best_tube_sets = df_best_tube_sets.append(df_best_set_temp)\n",
    "\n",
    "    # Remove the best tube set from df_dif_copy\n",
    "    tube_delete_list = list(df_best_set_temp.iloc[0])\n",
    "    tube_delete_list.pop(0)\n",
    "\n",
    "    df_dif_copy = df_dif_copy[~df_dif_copy.ref_tube_ID.isin(tube_delete_list)]\n",
    "    df_dif_copy = df_dif_copy[~df_dif_copy.match_tube_ID.isin(tube_delete_list)]\n",
    "    print()\n",
    "    print(ordinal_list[set_count],\"best tube set SCORE:\", str(df_best_set_temp.tube_set_score.iloc[0]))\n",
    "    print(\"TUBES:\", tube_delete_list)\n",
    "\n",
    "    set_count += 1\n",
    "    \n",
    "    # Update the progress bar\n",
    "    best_matched_progress_bar.value += 1\n",
    "\n",
    "\n",
    "stop_time = time.time()\n",
    "elapsed_time = stop_time - start_time\n",
    "print()\n",
    "print(\"It took\", round(elapsed_time, 2), \"seconds to produce\", set_count, \"tube sets.\")"
   ]
  },
  {
   "cell_type": "code",
   "execution_count": null,
   "metadata": {
    "collapsed": true,
    "scrolled": true
   },
   "outputs": [],
   "source": [
    "# Display the tube sets as a dataframe\n",
    "df_best_tube_sets.sort_values('tube_set_score').head(15)"
   ]
  },
  {
   "cell_type": "markdown",
   "metadata": {},
   "source": [
    "### Everything below this line is experimental"
   ]
  },
  {
   "cell_type": "code",
   "execution_count": null,
   "metadata": {
    "collapsed": true
   },
   "outputs": [],
   "source": [
    "df_best_tube_sets.tube_set_score[:15].describe()\n"
   ]
  },
  {
   "cell_type": "code",
   "execution_count": null,
   "metadata": {
    "collapsed": true
   },
   "outputs": [],
   "source": [
    "import seaborn as sns\n",
    "sns.set()\n",
    "\n",
    "df_sns = df_best_tube_sets[['tube_set_score']][:15].copy()\n",
    "\n",
    "sns.pairplot(df_sns, 'tube_set_score')\n",
    "sns.plt.show()\n"
   ]
  },
  {
   "cell_type": "code",
   "execution_count": null,
   "metadata": {
    "collapsed": true
   },
   "outputs": [],
   "source": [
    "from bokeh.charts import Histogram, output_file, show\n",
    "\n",
    "p = Histogram(df_best_tube_sets['tube_set_score'], title=\"Tube Set Scores\")\n",
    "\n",
    "output_file(\"histogram.html\",)\n",
    "\n",
    "show(p)"
   ]
  },
  {
   "cell_type": "markdown",
   "metadata": {},
   "source": [
    "# Miscellaneous exeriments with ipywidgets"
   ]
  },
  {
   "cell_type": "code",
   "execution_count": null,
   "metadata": {
    "collapsed": true
   },
   "outputs": [],
   "source": [
    "import ipywidgets as wg\n",
    "from ipywidgets import Layout, Box\n",
    "from IPython.display import display\n",
    "\n",
    "\n",
    "# Make a list of all the tube_ID names, then build a select box with those values\n",
    "tube_list = list(df.loc[:, 'tube_ID'])\n",
    "tube_list.sort(key=int)\n",
    "tube_ID_select_box = wg.Select(options=tube_list, value=tube_list[0], description='Reference Tube', layout=Layout(width='150px'), disabled=False)\n",
    "\n",
    "# Make a list of the tubes for the \"Matched Tubes\" selectMultiple box\n",
    "matched_list = ['1', '33', '67', '22', '45']\n",
    "matched_tube_box = wg.SelectMultiple(options=matched_list, layout=Layout(display=\"flex\", flex_flow='column', width='350px'), description=\"Matched Tubes\") \n",
    "\n",
    "\n",
    "items = [tube_ID_select_box, matched_tube_box]\n",
    "\n",
    "box_layout = Layout(display='flex',\n",
    "                    flex_flow='row',\n",
    "                    align_items='stretch',\n",
    "                    border='solid',\n",
    "                    width='100%')\n",
    "box = Box(children=items, layout=box_layout)\n",
    "\n",
    "box\n",
    "\n",
    "\n",
    "# def respond(sender):\n",
    "    # pass the chosen Tube_ID to a function that looks up the resulting match list, then fill the match list box\n",
    "    \n",
    "    \n",
    "# display(tube_ID_select_box,matched_tube_box)\n",
    "# tube_ID_select_box.observe(respond)"
   ]
  },
  {
   "cell_type": "markdown",
   "metadata": {},
   "source": [
    "# Other Miscellaneous stuff"
   ]
  },
  {
   "cell_type": "markdown",
   "metadata": {},
   "source": [
    "##### Apply a function to a column\n",
    "df.Bias_2.max()"
   ]
  },
  {
   "cell_type": "code",
   "execution_count": null,
   "metadata": {
    "collapsed": true
   },
   "outputs": [],
   "source": [
    "% lsmagic"
   ]
  },
  {
   "cell_type": "code",
   "execution_count": null,
   "metadata": {
    "collapsed": true
   },
   "outputs": [],
   "source": [
    "%pprint\n",
    "\n"
   ]
  },
  {
   "cell_type": "code",
   "execution_count": null,
   "metadata": {
    "collapsed": true
   },
   "outputs": [],
   "source": [
    "# Applymap is useful for applying a function to all data\n",
    "# For example, converting all data from floats to ints\n",
    "# df.loc[2:7, 'Bias_2': 'Bias_50'].applymap(int)"
   ]
  },
  {
   "cell_type": "code",
   "execution_count": null,
   "metadata": {
    "collapsed": true
   },
   "outputs": [],
   "source": [
    "# List all available magics\n",
    "% lsmagic"
   ]
  },
  {
   "cell_type": "code",
   "execution_count": null,
   "metadata": {
    "collapsed": true
   },
   "outputs": [],
   "source": [
    "# Display environmental variables\n",
    "env_variables = %env\n",
    "current_path = env_variables.get('PATH')\n",
    "current_path"
   ]
  },
  {
   "cell_type": "code",
   "execution_count": null,
   "metadata": {
    "collapsed": true
   },
   "outputs": [],
   "source": [
    "mydict = % env\n",
    "mydict.keys()"
   ]
  },
  {
   "cell_type": "code",
   "execution_count": null,
   "metadata": {
    "collapsed": true
   },
   "outputs": [],
   "source": [
    "% env"
   ]
  },
  {
   "cell_type": "code",
   "execution_count": null,
   "metadata": {
    "collapsed": true
   },
   "outputs": [],
   "source": [
    "# % time x = range(10000)\n",
    "% timeit x = range(10000)\n",
    "max(x)"
   ]
  }
 ],
 "metadata": {
  "kernelspec": {
   "display_name": "Python 3",
   "language": "python",
   "name": "python3"
  },
  "language_info": {
   "codemirror_mode": {
    "name": "ipython",
    "version": 3
   },
   "file_extension": ".py",
   "mimetype": "text/x-python",
   "name": "python",
   "nbconvert_exporter": "python",
   "pygments_lexer": "ipython3",
   "version": "3.6.0"
  }
 },
 "nbformat": 4,
 "nbformat_minor": 2
}
